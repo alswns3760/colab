{
  "nbformat": 4,
  "nbformat_minor": 0,
  "metadata": {
    "colab": {
      "name": "myFirstPython-PL.ipynb",
      "provenance": [],
      "authorship_tag": "ABX9TyOS2V1gnBMM5ZqC3zWe+7KT",
      "include_colab_link": true
    },
    "kernelspec": {
      "name": "python3",
      "display_name": "Python 3"
    },
    "language_info": {
      "name": "python"
    }
  },
  "cells": [
    {
      "cell_type": "markdown",
      "metadata": {
        "id": "view-in-github",
        "colab_type": "text"
      },
      "source": [
        "<a href=\"https://colab.research.google.com/github/alswns3760/colab/blob/main/myFirstPython_PL.ipynb\" target=\"_parent\"><img src=\"https://colab.research.google.com/assets/colab-badge.svg\" alt=\"Open In Colab\"/></a>"
      ]
    },
    {
      "cell_type": "markdown",
      "source": [
        "나의 첫 파이썬 프로그래밍"
      ],
      "metadata": {
        "id": "_8okW2pwDfgh"
      }
    },
    {
      "cell_type": "code",
      "execution_count": 1,
      "metadata": {
        "colab": {
          "base_uri": "https://localhost:8080/"
        },
        "id": "VRcQDdoPDHA_",
        "outputId": "d7cd3719-1991-4711-e252-e8518cf83ac7"
      },
      "outputs": [
        {
          "output_type": "stream",
          "name": "stdout",
          "text": [
            "컴퓨터과 3학년 1반 10번 서민준\n"
          ]
        }
      ],
      "source": [
        "print(\"컴퓨터과 3학년 1반 10번 서민준\")"
      ]
    }
  ]
}