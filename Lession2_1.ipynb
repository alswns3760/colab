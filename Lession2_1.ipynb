{
  "nbformat": 4,
  "nbformat_minor": 0,
  "metadata": {
    "colab": {
      "name": "Lession2-1.ipynb",
      "provenance": [],
      "authorship_tag": "ABX9TyMjZM1Qfma9gCnMtpVeZK9c",
      "include_colab_link": true
    },
    "kernelspec": {
      "name": "python3",
      "display_name": "Python 3"
    },
    "language_info": {
      "name": "python"
    }
  },
  "cells": [
    {
      "cell_type": "markdown",
      "metadata": {
        "id": "view-in-github",
        "colab_type": "text"
      },
      "source": [
        "<a href=\"https://colab.research.google.com/github/alswns3760/colab/blob/main/Lession2_1.ipynb\" target=\"_parent\"><img src=\"https://colab.research.google.com/assets/colab-badge.svg\" alt=\"Open In Colab\"/></a>"
      ]
    },
    {
      "cell_type": "code",
      "execution_count": 2,
      "metadata": {
        "colab": {
          "base_uri": "https://localhost:8080/"
        },
        "id": "OlmfZK2_kHzG",
        "outputId": "086cf9c7-dba2-4942-941d-5cc9cf20c647"
      },
      "outputs": [
        {
          "output_type": "stream",
          "name": "stdout",
          "text": [
            "100 + 200 = 300\n"
          ]
        }
      ],
      "source": [
        "a = 100\n",
        "b = 200\n",
        "c = a + b\n",
        "print(a,\"+\", b, \"=\", c)"
      ]
    },
    {
      "cell_type": "code",
      "source": [
        "num1 = 500\n",
        "num2 = 200\n",
        "result = num1 - num2\n",
        "print(num1,\"-\", num2,\"=\",result)"
      ],
      "metadata": {
        "colab": {
          "base_uri": "https://localhost:8080/"
        },
        "id": "J4Iv5nI8lno6",
        "outputId": "44a882c9-1984-4599-9c6a-d8b5e22bde3c"
      },
      "execution_count": 5,
      "outputs": [
        {
          "output_type": "stream",
          "name": "stdout",
          "text": [
            "500 - 200 = 300\n"
          ]
        }
      ]
    },
    {
      "cell_type": "code",
      "source": [
        "num1 = 8\n",
        "num2 = 17\n",
        "result = num1 * num2\n",
        "print(num1,\"x\",num2,\"=\", result)"
      ],
      "metadata": {
        "colab": {
          "base_uri": "https://localhost:8080/"
        },
        "id": "BUilh9PumSPz",
        "outputId": "8aedd6ee-1f79-459a-8b95-7f33353b42bc"
      },
      "execution_count": 6,
      "outputs": [
        {
          "output_type": "stream",
          "name": "stdout",
          "text": [
            "8 x 17 = 136\n"
          ]
        }
      ]
    },
    {
      "cell_type": "code",
      "source": [
        "num1 = 8\n",
        "num2 = 17\n",
        "result = num1/num2\n",
        "print(num1,\"/\",num2,\"=\",result)"
      ],
      "metadata": {
        "colab": {
          "base_uri": "https://localhost:8080/"
        },
        "id": "BWUpHcBAmhCx",
        "outputId": "a2cde1ad-9e78-4d4e-bb3d-d0fc2361fc56"
      },
      "execution_count": 8,
      "outputs": [
        {
          "output_type": "stream",
          "name": "stdout",
          "text": [
            "8 / 17 = 0.47058823529411764\n"
          ]
        }
      ]
    },
    {
      "cell_type": "markdown",
      "source": [
        "나머지 구하는 연산자 : %"
      ],
      "metadata": {
        "id": "kPAA6--JnJ0U"
      }
    },
    {
      "cell_type": "code",
      "source": [
        "num1, num2 = 4, 2\n",
        "result = num1 % num2\n",
        "print(num1, \"%\",num2,\"=\",result)"
      ],
      "metadata": {
        "colab": {
          "base_uri": "https://localhost:8080/"
        },
        "id": "FjAtXLNym2Dx",
        "outputId": "4b949a0c-0e15-4bb4-f79d-4ebdce97bc0a"
      },
      "execution_count": 9,
      "outputs": [
        {
          "output_type": "stream",
          "name": "stdout",
          "text": [
            "4 % 2 = 0\n"
          ]
        }
      ]
    },
    {
      "cell_type": "markdown",
      "source": [
        "몫을 구하는 연산자 : //"
      ],
      "metadata": {
        "id": "RdLPh-GanThx"
      }
    },
    {
      "cell_type": "code",
      "source": [
        "num1, num2 = 4, 2\n",
        "result = num1 // num2\n",
        "print(num1, \"//\",num2,\"=\",result)"
      ],
      "metadata": {
        "colab": {
          "base_uri": "https://localhost:8080/"
        },
        "id": "83oA5bqunSdK",
        "outputId": "0067cc30-82ba-40b7-965c-26afd2ff41ab"
      },
      "execution_count": 10,
      "outputs": [
        {
          "output_type": "stream",
          "name": "stdout",
          "text": [
            "4 // 2 = 2\n"
          ]
        }
      ]
    },
    {
      "cell_type": "markdown",
      "source": [
        "문자열 연산자 : +,*"
      ],
      "metadata": {
        "id": "dzo591QVoMHD"
      }
    },
    {
      "cell_type": "code",
      "source": [
        "str1 = \"안산공고\"\n",
        "str2 = \"컴퓨터과\"\n",
        "result = str1 + str2\n",
        "print(str1,\"+\",str2, \"=\", result)"
      ],
      "metadata": {
        "colab": {
          "base_uri": "https://localhost:8080/"
        },
        "id": "AsJYbpccoQDK",
        "outputId": "ad5eacb6-9019-41ce-f8c9-e26b6d8b9db0"
      },
      "execution_count": 11,
      "outputs": [
        {
          "output_type": "stream",
          "name": "stdout",
          "text": [
            "안산공고 + 컴퓨터과 = 안산공고컴퓨터과\n"
          ]
        }
      ]
    },
    {
      "cell_type": "code",
      "source": [
        "str1 = \"안산공고\"\n",
        "result = str1 * 3\n",
        "print(str1,\"*\",3,result)"
      ],
      "metadata": {
        "colab": {
          "base_uri": "https://localhost:8080/"
        },
        "id": "_xnkhaDCojAr",
        "outputId": "9c942d4a-d7e4-4cbe-abbd-99051aa5ecf3"
      },
      "execution_count": 12,
      "outputs": [
        {
          "output_type": "stream",
          "name": "stdout",
          "text": [
            "안산공고 * 3 안산공고안산공고안산공고\n"
          ]
        }
      ]
    },
    {
      "cell_type": "markdown",
      "source": [
        "2장 형성평가 1"
      ],
      "metadata": {
        "id": "84PN1WQlpL96"
      }
    },
    {
      "cell_type": "code",
      "source": [
        "num1,num2 = 100,200\n",
        "result1 = num1+num2\n",
        "result2 = num1-num2\n",
        "result3 = num1*num2\n",
        "result4 = num1/num2\n",
        "\n",
        "print(num1,\"+\",num2,\"=\",result1)\n",
        "print(num1,\"-\",num2,\"=\",result2)\n",
        "print(num1,\"*\",num2,\"=\",result3)\n",
        "print(num1,\"/\",num2,\"=\",result4)"
      ],
      "metadata": {
        "colab": {
          "base_uri": "https://localhost:8080/"
        },
        "id": "8X112M3iqKY0",
        "outputId": "ac1028fa-e016-449a-fea8-7f0186e4d452"
      },
      "execution_count": 20,
      "outputs": [
        {
          "output_type": "stream",
          "name": "stdout",
          "text": [
            "100 + 200 = 300\n",
            "100 - 200 = -100\n",
            "100 * 200 = 20000\n",
            "100 / 200 = 0.5\n"
          ]
        }
      ]
    },
    {
      "cell_type": "markdown",
      "source": [
        "input()함수의 사용 예"
      ],
      "metadata": {
        "id": "f0icKS0YsRKG"
      }
    },
    {
      "cell_type": "code",
      "source": [
        "num1 = int(input(\"첫번째 숫자 입력 ==>\"))\n",
        "num2 = input(\"두번쨰 숫자 입력 ==>\")\n",
        "result = num1 + int(num2)\n",
        "print(num1,\"+\",num2,\"=\",result)"
      ],
      "metadata": {
        "colab": {
          "base_uri": "https://localhost:8080/"
        },
        "id": "RvTMB16BryNb",
        "outputId": "eb9774ba-4f6a-48f0-db51-57eed7e8a370"
      },
      "execution_count": 22,
      "outputs": [
        {
          "output_type": "stream",
          "name": "stdout",
          "text": [
            "첫번째 숫자 입력 ==>100\n",
            "두번쨰 숫자 입력 ==>200\n",
            "100 + 200 = 300\n"
          ]
        }
      ]
    },
    {
      "cell_type": "code",
      "source": [
        "num1 = input(\"이름 ==> : \")\n",
        "num2 = input(\"전화번호 ==> : \")\n",
        "print(\"제이름\",num1,\"이고,\"\"연락처는\",num2,\"입니다.\")"
      ],
      "metadata": {
        "colab": {
          "base_uri": "https://localhost:8080/"
        },
        "id": "E5Gij5YOuOSr",
        "outputId": "dad99dc3-6a31-4231-a688-d9914bd7d89b"
      },
      "execution_count": 71,
      "outputs": [
        {
          "output_type": "stream",
          "name": "stdout",
          "text": [
            "이름 ==> : 서민준\n",
            "전화번호 ==> : 010-000--0000\n",
            "제이름 서민준 이고,연락처는 010-000--0000 입니다.\n"
          ]
        }
      ]
    },
    {
      "cell_type": "code",
      "source": [
        "print(\"## 택배를 보내기위한 정보를 입력을 하세요. ##\")\n",
        "personName = input(\"받는 사람 : \")\n",
        "personName = input(\"주소 : \")\n",
        "weight = int(input(\"무게(g) : \"))\n",
        "\n",
        "print(\"** 받는 사람 ==>\",personName)\n",
        "print(\"** 주소 ==>\", personName)\n",
        "\n",
        "print(\"** 배송비 ==>\",weight * 5,\"원\")\n"
      ],
      "metadata": {
        "colab": {
          "base_uri": "https://localhost:8080/"
        },
        "id": "blZPpkOcu_Y0",
        "outputId": "9daa0cf3-1908-4999-ddf1-078ee9e8f0cc"
      },
      "execution_count": 33,
      "outputs": [
        {
          "output_type": "stream",
          "name": "stdout",
          "text": [
            "## 택배를 보내기위한 정보를 입력을 하세요. ##\n",
            "받는 사람 : ㅇ\n",
            "주소 : ㅇㅇㅇ\n",
            "무게(g) : 156\n",
            "** 받는 사람 ==> ㅇㅇㅇ\n",
            "** 주소 ==> ㅇㅇㅇ\n",
            "** 배송비 ==> 780 원\n"
          ]
        }
      ]
    },
    {
      "cell_type": "markdown",
      "source": [
        "형성평가 3"
      ],
      "metadata": {
        "id": "2S04HKBvw2Pm"
      }
    },
    {
      "cell_type": "code",
      "source": [
        "num1 = int(input(\"숫자1 ==>\"))\n",
        "num2 = int(input(\"숫자2 ==>\"))\n",
        "\n",
        "result1 = num1+num2\n",
        "result2 = num1-num2\n",
        "result3 = num1*num2\n",
        "result4 = num1/num2\n",
        "result5 = num1%num2\n",
        "result6 = num1**num2\n",
        "\n",
        "print(num1,\"+\",num2,\"=\",result1)\n",
        "print(num1,\"-\",num2,\"=\",result2)\n",
        "print(num1,\"*\",num2,\"=\",result3)\n",
        "print(num1,\"/\",num2,\"=\",result4)\n",
        "print(num1,\"%\",num2,\"=\",result5)\n",
        "print(num1,\"**\",num2,\"=\",result6)"
      ],
      "metadata": {
        "colab": {
          "base_uri": "https://localhost:8080/"
        },
        "id": "8k0sKol0w1E9",
        "outputId": "ed4effd0-6efb-4ff1-828c-a7b0d1a12250"
      },
      "execution_count": 37,
      "outputs": [
        {
          "output_type": "stream",
          "name": "stdout",
          "text": [
            "숫자1 ==>100\n",
            "숫자2 ==>10\n",
            "100 + 10 = 110\n",
            "100 - 10 = 90\n",
            "100 * 10 = 1000\n",
            "100 / 10 = 10.0\n",
            "100 % 10 = 0\n",
            "100 ** 10 = 100000000000000000000\n"
          ]
        }
      ]
    },
    {
      "cell_type": "markdown",
      "source": [
        "거북이 1번 예제"
      ],
      "metadata": {
        "id": "0rBLF4ArxpNY"
      }
    },
    {
      "cell_type": "code",
      "source": [
        "#!pip3 install ColabTurtle\n",
        "import ColabTurtle.Turtle as turtle\n",
        "\n",
        "turtle.initializeTurtle()\n",
        "turtle.forward(150)\n",
        "turtle.left(90)\n",
        "turtle.forward(150)\n",
        "turtle.left(90)\n",
        "turtle.forward(150)\n",
        "turtle.left(90)\n",
        "turtle.forward(150)"
      ],
      "metadata": {
        "colab": {
          "base_uri": "https://localhost:8080/",
          "height": 520
        },
        "id": "0qjRNOfUxp7c",
        "outputId": "49127498-d657-470e-bc8b-6860e85fdfed"
      },
      "execution_count": 65,
      "outputs": [
        {
          "output_type": "display_data",
          "data": {
            "text/plain": [
              "<IPython.core.display.HTML object>"
            ],
            "text/html": [
              "\n",
              "      <svg width=\"800\" height=\"500\">\n",
              "        <rect width=\"100%\" height=\"100%\" fill=\"black\"/>\n",
              "        <line x1=\"400\" y1=\"250\" x2=\"400.0\" y2=\"100.0\" stroke-linecap=\"round\" style=\"stroke:white;stroke-width:4\"/><line x1=\"400.0\" y1=\"100.0\" x2=\"250.0\" y2=\"100.0\" stroke-linecap=\"round\" style=\"stroke:white;stroke-width:4\"/><line x1=\"250.0\" y1=\"100.0\" x2=\"250.0\" y2=\"250.0\" stroke-linecap=\"round\" style=\"stroke:white;stroke-width:4\"/><line x1=\"250.0\" y1=\"250.0\" x2=\"400.0\" y2=\"250.0\" stroke-linecap=\"round\" style=\"stroke:white;stroke-width:4\"/>\n",
              "        <g visibility=visible transform=\"rotate(90,400.0,250.0) translate(382.0, 232.0)\">\n",
              "<path style=\" stroke:none;fill-rule:evenodd;fill:white;fill-opacity:1;\" d=\"M 18.214844 0.632812 C 16.109375 1.800781 15.011719 4.074219 15.074219 7.132812 L 15.085938 7.652344 L 14.785156 7.496094 C 13.476562 6.824219 11.957031 6.671875 10.40625 7.066406 C 8.46875 7.550781 6.515625 9.15625 4.394531 11.992188 C 3.0625 13.777344 2.679688 14.636719 3.042969 15.027344 L 3.15625 15.152344 L 3.519531 15.152344 C 4.238281 15.152344 4.828125 14.886719 8.1875 13.039062 C 9.386719 12.378906 10.371094 11.839844 10.378906 11.839844 C 10.386719 11.839844 10.355469 11.929688 10.304688 12.035156 C 9.832031 13.09375 9.257812 14.820312 8.96875 16.078125 C 7.914062 20.652344 8.617188 24.53125 11.070312 27.660156 C 11.351562 28.015625 11.363281 27.914062 10.972656 28.382812 C 8.925781 30.84375 7.945312 33.28125 8.238281 35.1875 C 8.289062 35.527344 8.28125 35.523438 8.917969 35.523438 C 10.941406 35.523438 13.074219 34.207031 15.136719 31.6875 C 15.359375 31.417969 15.328125 31.425781 15.5625 31.574219 C 16.292969 32.042969 18.023438 32.964844 18.175781 32.964844 C 18.335938 32.964844 19.941406 32.210938 20.828125 31.71875 C 20.996094 31.625 21.136719 31.554688 21.136719 31.558594 C 21.203125 31.664062 21.898438 32.414062 22.222656 32.730469 C 23.835938 34.300781 25.5625 35.132812 27.582031 35.300781 C 27.90625 35.328125 27.9375 35.308594 28.007812 34.984375 C 28.382812 33.242188 27.625 30.925781 25.863281 28.425781 L 25.542969 27.96875 L 25.699219 27.785156 C 28.945312 23.960938 29.132812 18.699219 26.257812 11.96875 L 26.207031 11.84375 L 27.945312 12.703125 C 31.53125 14.476562 32.316406 14.800781 33.03125 14.800781 C 33.976562 14.800781 33.78125 13.9375 32.472656 12.292969 C 28.519531 7.355469 25.394531 5.925781 21.921875 7.472656 L 21.558594 7.636719 L 21.578125 7.542969 C 21.699219 6.992188 21.761719 5.742188 21.699219 5.164062 C 21.496094 3.296875 20.664062 1.964844 19.003906 0.855469 C 18.480469 0.503906 18.457031 0.5 18.214844 0.632812\"/>\n",
              "</g>\n",
              "      </svg>\n",
              "    "
            ]
          },
          "metadata": {}
        }
      ]
    }
  ]
}