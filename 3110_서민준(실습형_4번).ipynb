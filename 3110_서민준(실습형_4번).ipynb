{
  "nbformat": 4,
  "nbformat_minor": 0,
  "metadata": {
    "colab": {
      "provenance": [],
      "authorship_tag": "ABX9TyOouoC+4zQnKY23MCoRje5a",
      "include_colab_link": true
    },
    "kernelspec": {
      "name": "python3",
      "display_name": "Python 3"
    },
    "language_info": {
      "name": "python"
    }
  },
  "cells": [
    {
      "cell_type": "markdown",
      "metadata": {
        "id": "view-in-github",
        "colab_type": "text"
      },
      "source": [
        "<a href=\"https://colab.research.google.com/github/alswns3760/colab/blob/main/3110_%EC%84%9C%EB%AF%BC%EC%A4%80(%EC%8B%A4%EC%8A%B5%ED%98%95_4%EB%B2%88).ipynb\" target=\"_parent\"><img src=\"https://colab.research.google.com/assets/colab-badge.svg\" alt=\"Open In Colab\"/></a>"
      ]
    },
    {
      "cell_type": "code",
      "execution_count": 1,
      "metadata": {
        "colab": {
          "base_uri": "https://localhost:8080/"
        },
        "id": "5XfOD12w8IKz",
        "outputId": "9b056bb8-ef81-4217-a90e-4f6cfadb9296"
      },
      "outputs": [
        {
          "output_type": "stream",
          "name": "stdout",
          "text": [
            "파운드(lb)를 입력하세요 : 15\n",
            "15 파운드(lb)는 6.80388 킬로그램(kg)입니다.\n",
            "킬로그램(kg)를 입력하세요 :15\n",
            "15 킬로그램(kg) 33.06935 파운드(lb)입니다.\n"
          ]
        }
      ],
      "source": [
        "pound=int(input(\"파운드(lb)를 입력하세요 : \"))\n",
        "kg = pound * 0.453592\n",
        "print(pound,\"파운드(lb)는\",round(kg,5),\"킬로그램(kg)입니다.\")\n",
        "\n",
        "kg=int(input(\"킬로그램(kg)를 입력하세요 :\"))\n",
        "pound=kg * 2.204623\n",
        "print(kg,\"킬로그램(kg)\",round(pound,5),\"파운드(lb)입니다.\")"
      ]
    }
  ]
}