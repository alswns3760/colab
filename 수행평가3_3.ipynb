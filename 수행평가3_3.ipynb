{
  "nbformat": 4,
  "nbformat_minor": 0,
  "metadata": {
    "colab": {
      "provenance": [],
      "authorship_tag": "ABX9TyOsPBSewN8rxqGS3Vnvignl",
      "include_colab_link": true
    },
    "kernelspec": {
      "name": "python3",
      "display_name": "Python 3"
    },
    "language_info": {
      "name": "python"
    }
  },
  "cells": [
    {
      "cell_type": "markdown",
      "metadata": {
        "id": "view-in-github",
        "colab_type": "text"
      },
      "source": [
        "<a href=\"https://colab.research.google.com/github/alswns3760/colab/blob/main/%EC%88%98%ED%96%89%ED%8F%89%EA%B0%803_3.ipynb\" target=\"_parent\"><img src=\"https://colab.research.google.com/assets/colab-badge.svg\" alt=\"Open In Colab\"/></a>"
      ]
    },
    {
      "cell_type": "code",
      "execution_count": 4,
      "metadata": {
        "colab": {
          "base_uri": "https://localhost:8080/"
        },
        "id": "YtyeWQ4MD37F",
        "outputId": "43d549f3-ad7e-488e-e98b-a8b74425bd4b"
      },
      "outputs": [
        {
          "output_type": "stream",
          "name": "stdout",
          "text": [
            "점수를 입력 : 80\n",
            "B학점입니다.\n"
          ]
        }
      ],
      "source": [
        "score = int(input(\"점수를 입력 : \"))\n",
        "if score >=90 :\n",
        "  print(\"A\",end=\"\")\n",
        "else :\n",
        "  if score >=80 :\n",
        "    print(\"B\",end=\"\")\n",
        "  else :\n",
        "    if score >=70 :\n",
        "      print(\"C\",end=\"\")\n",
        "    else :\n",
        "        if score >=60 :\n",
        "          print(\"D\",end=\"\")\n",
        "        else :\n",
        "          print(\"F\",end=\"\")\n",
        "print(\"학점입니다.\")"
      ]
    }
  ]
}