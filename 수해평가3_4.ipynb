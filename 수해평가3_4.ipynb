{
  "nbformat": 4,
  "nbformat_minor": 0,
  "metadata": {
    "colab": {
      "provenance": [],
      "authorship_tag": "ABX9TyMJtqjJgbjvQoyYcmTXQ1Fh",
      "include_colab_link": true
    },
    "kernelspec": {
      "name": "python3",
      "display_name": "Python 3"
    },
    "language_info": {
      "name": "python"
    }
  },
  "cells": [
    {
      "cell_type": "markdown",
      "metadata": {
        "id": "view-in-github",
        "colab_type": "text"
      },
      "source": [
        "<a href=\"https://colab.research.google.com/github/alswns3760/colab/blob/main/%EC%88%98%ED%95%B4%ED%8F%89%EA%B0%803_4.ipynb\" target=\"_parent\"><img src=\"https://colab.research.google.com/assets/colab-badge.svg\" alt=\"Open In Colab\"/></a>"
      ]
    },
    {
      "cell_type": "code",
      "execution_count": 12,
      "metadata": {
        "colab": {
          "base_uri": "https://localhost:8080/"
        },
        "id": "IiiTiiZGFBal",
        "outputId": "eec893ff-925a-48e5-f711-98f3f130b5f9"
      },
      "outputs": [
        {
          "output_type": "stream",
          "name": "stdout",
          "text": [
            "** 가위 바위 보 게임 **\n",
            "가위/바위/보 중 하나를 입력하세요 ==> 바위\n",
            "졌다.\n"
          ]
        }
      ],
      "source": [
        "import random\n",
        "com_player = random.choice([\"가위\",\"바위\",\"보\"])\n",
        "print(\"** 가위 바위 보 게임 **\")\n",
        "count = 1\n",
        "while count > 0 :\n",
        "  user_play = input(\"가위/바위/보 중 하나를 입력하세요 ==> \")\n",
        "  if (com_player == user_player ) :\n",
        "    print(\"비겼다.\")\n",
        "  elif ((com_player == \"가위\") and (user_player == \"바위\")) or \\\n",
        "  ((com_player == \"주먹\") and (user_player == \"보\")) or \\\n",
        "  ((com_player == \"보\") and (user_player == \"가위\")) :\n",
        "    print(\"이겼다.\")\n",
        "  else :\n",
        "     print(\"졌다.\")\n",
        "  count = count - 1"
      ]
    }
  ]
}