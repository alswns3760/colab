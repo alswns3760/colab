{
  "nbformat": 4,
  "nbformat_minor": 0,
  "metadata": {
    "colab": {
      "provenance": [],
      "authorship_tag": "ABX9TyN+NcLKFP9t/vpxGX3p+eUq",
      "include_colab_link": true
    },
    "kernelspec": {
      "name": "python3",
      "display_name": "Python 3"
    },
    "language_info": {
      "name": "python"
    }
  },
  "cells": [
    {
      "cell_type": "markdown",
      "metadata": {
        "id": "view-in-github",
        "colab_type": "text"
      },
      "source": [
        "<a href=\"https://colab.research.google.com/github/alswns3760/colab/blob/main/Lession5.ipynb\" target=\"_parent\"><img src=\"https://colab.research.google.com/assets/colab-badge.svg\" alt=\"Open In Colab\"/></a>"
      ]
    },
    {
      "cell_type": "markdown",
      "source": [
        "if문 예제"
      ],
      "metadata": {
        "id": "35EDzlk1QJU7"
      }
    },
    {
      "cell_type": "code",
      "execution_count": null,
      "metadata": {
        "colab": {
          "base_uri": "https://localhost:8080/"
        },
        "id": "pms4yMy6QGST",
        "outputId": "9d00fc6d-30f0-4316-ca2a-5cb9b67e933f"
      },
      "outputs": [
        {
          "output_type": "stream",
          "name": "stdout",
          "text": [
            "100보다 작습니다.\n"
          ]
        }
      ],
      "source": [
        "num=99\n",
        "if num < 100 :\n",
        "  print(\"100보다 작습니다.\")"
      ]
    },
    {
      "cell_type": "code",
      "source": [
        "num = int(input(\"정수를 입력하세요 : \"))\n",
        "if (num%2==0) :\n",
        "   print(\"짝수입니다.\")\n",
        "else :\n",
        "   print(\"홀수입니다.\")"
      ],
      "metadata": {
        "colab": {
          "base_uri": "https://localhost:8080/"
        },
        "id": "mdokLMuOQ8Pq",
        "outputId": "7b7c21e9-0f40-403b-ce57-18acbb07b9d4"
      },
      "execution_count": null,
      "outputs": [
        {
          "output_type": "stream",
          "name": "stdout",
          "text": [
            "정수를 입력하세요 : 3\n",
            "홀수입니다.\n"
          ]
        }
      ]
    },
    {
      "cell_type": "markdown",
      "source": [
        "랜덤 함수 import random"
      ],
      "metadata": {
        "id": "tMjhOx1xU1wA"
      }
    },
    {
      "cell_type": "code",
      "source": [
        "import random\n",
        "com_number = random.randint(1,45)\n",
        "print(\"** 컴퓨터가 생각한 숫자를 맞추는 게임 **\")\n",
        "print(\"숫자는 1부터 45까지입니다.\")\n",
        "user_number = \"\"\n",
        "while com_number != user_number :\n",
        "  user_number =  int(input(\"숫자를 입력 : \"))\n",
        "  if com_number > user_number :\n",
        "    print(\"입력한 숫자가 작습니다.\")\n",
        "  elif com_number < user_number :\n",
        "    print(\"입력한 숫자가 더 큽니다.\")\n",
        "  else :\n",
        "    print(\"정답\")"
      ],
      "metadata": {
        "colab": {
          "base_uri": "https://localhost:8080/"
        },
        "id": "p8aZOw6NSt4Z",
        "outputId": "90878055-bd68-4fbd-be6b-1647e2054214"
      },
      "execution_count": null,
      "outputs": [
        {
          "output_type": "stream",
          "name": "stdout",
          "text": [
            "** 컴퓨터가 생각한 숫자를 맞추는 게임 **\n",
            "숫자는 1부터 45까지입니다.\n",
            "숫자를 입력 : 40\n",
            "입력한 숫자가 더 큽니다.\n",
            "숫자를 입력 : 12\n",
            "정답\n"
          ]
        }
      ]
    },
    {
      "cell_type": "code",
      "source": [
        "import random\n",
        "com_player = random.choice([\"가위\",\"바위\",\"보\"])\n",
        "print(\"** 가위 바위 보 게임 **\")\n",
        "count = 7\n",
        "while count > 0 :\n",
        "  user_player = input(\"가위/바위/보 중 하나를 입력하세요 ==>ㅂ\")\n",
        "  if (com_player ==  user_player ) :\n",
        "    print(\"비겼다.\")\n",
        "  elif ((com_player == \"가위\") and (user_player == \"바위\")) or \\\n",
        "  ((com_player == \"바위\") and (user_player == \"보\")) or \\\n",
        "  ((com_player == \"보\") and (user_player == \"가위\")) :\n",
        "   print(\"이겼다.\")\n",
        "  else :\n",
        "     print(\"졌다.\")\n",
        "  count = count - 1"
      ],
      "metadata": {
        "colab": {
          "base_uri": "https://localhost:8080/"
        },
        "id": "V3lLd0uyXFLV",
        "outputId": "def8a006-752d-4cd8-ab09-3ddfeea21472"
      },
      "execution_count": null,
      "outputs": [
        {
          "output_type": "stream",
          "name": "stdout",
          "text": [
            "** 가위 바위 보 게임 **\n",
            "가위/바위/보 중 하나를 입력하세요 ==>보\n",
            "비겼다.\n",
            "가위/바위/보 중 하나를 입력하세요 ==>보\n",
            "비겼다.\n",
            "가위/바위/보 중 하나를 입력하세요 ==>보\n",
            "비겼다.\n",
            "가위/바위/보 중 하나를 입력하세요 ==>보\n",
            "비겼다.\n",
            "가위/바위/보 중 하나를 입력하세요 ==>ㅗ\n",
            "졌다.\n",
            "가위/바위/보 중 하나를 입력하세요 ==>보\n",
            "비겼다.\n",
            "가위/바위/보 중 하나를 입력하세요 ==>보\n",
            "비겼다.\n"
          ]
        }
      ]
    },
    {
      "cell_type": "code",
      "source": [
        "num = int(input(\"숫자를 입력 ==> \"))\n",
        "\n",
        "if num > 100 :\n",
        "  if num < 1000 :\n",
        "    print(\"100보다 크고 1000보다 작군요.\")\n",
        "  else :\n",
        "     print(\"와 1000보다 크군요\")\n",
        "else :\n",
        "  print(\"음 100보다 작군요\")"
      ],
      "metadata": {
        "colab": {
          "base_uri": "https://localhost:8080/"
        },
        "id": "eOEc_GAkLSSe",
        "outputId": "1d9ccb5e-4380-4059-8e2c-649fd66f53a9"
      },
      "execution_count": 9,
      "outputs": [
        {
          "output_type": "stream",
          "name": "stdout",
          "text": [
            "숫자를 입력 ==> 41\n",
            "음 100보다 작군요\n"
          ]
        }
      ]
    },
    {
      "cell_type": "code",
      "source": [
        "score = int(input(\"점수를 입력 : \"))\n",
        "if score >= 90 :\n",
        "  print(\"A\",end='')\n",
        "else :\n",
        "    if score >= 80 :\n",
        "      print(\"B\",end='')\n",
        "    else :\n",
        "      if score >= 70 :\n",
        "        print(\"C\",end='')\n",
        "      else :\n",
        "        if score >=60 :\n",
        "          print(\"D\",end='')\n",
        "        else :\n",
        "            print(\"F\",end='')\n",
        "print(\"학점입니다.\")"
      ],
      "metadata": {
        "colab": {
          "base_uri": "https://localhost:8080/"
        },
        "id": "FKZVthoVNbJz",
        "outputId": "18522235-589c-4728-fa9d-9202d3d4a5bd"
      },
      "execution_count": 20,
      "outputs": [
        {
          "output_type": "stream",
          "name": "stdout",
          "text": [
            "점수를 입력 : 70\n",
            "C학점입니다.\n"
          ]
        }
      ]
    },
    {
      "cell_type": "code",
      "source": [
        "score = int(input(\"점수 입력 : \"))\n",
        "if score >=90 :\n",
        "  print(\"A\",end='')\n",
        "elif score >= 80 :\n",
        "  print(\"B\",end='')\n",
        "elif score >= 70:\n",
        "  print(\"C\",end='')\n",
        "elif score >=60 :\n",
        "  print(\"D\",end='')\n",
        "else :\n",
        "  print(\"F\",end='')\n",
        "  print(\"학점\")"
      ],
      "metadata": {
        "colab": {
          "base_uri": "https://localhost:8080/"
        },
        "id": "RIwohFJGPLNU",
        "outputId": "b2fef8d9-0207-46a0-b56b-3bd65a892bb6"
      },
      "execution_count": 21,
      "outputs": [
        {
          "output_type": "stream",
          "name": "stdout",
          "text": [
            "점수 입력 : 70\n",
            "C"
          ]
        }
      ]
    },
    {
      "cell_type": "code",
      "source": [
        "age = int(input(\"나이 입력 : \"))\n",
        "if age >=18 :\n",
        "  print(\"즐거운 시간 되쇼\")\n",
        "else :\n",
        "  print(\"집에 가쇼\")\n",
        "print(\"협조 감사합니다\")"
      ],
      "metadata": {
        "colab": {
          "base_uri": "https://localhost:8080/"
        },
        "id": "KM6-xH57RJQK",
        "outputId": "4b065c2f-f460-43e5-f19e-c8f60724896e"
      },
      "execution_count": 23,
      "outputs": [
        {
          "output_type": "stream",
          "name": "stdout",
          "text": [
            "나이 입력 : 18\n",
            "즐거운 시간 되십쇼\n",
            "협조 감사합니다\n"
          ]
        }
      ]
    }
  ]
}