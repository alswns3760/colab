{
  "nbformat": 4,
  "nbformat_minor": 0,
  "metadata": {
    "colab": {
      "name": "Lession5.ipynb",
      "provenance": [],
      "authorship_tag": "ABX9TyOLTO6KlttUkiQVo14yNc7T",
      "include_colab_link": true
    },
    "kernelspec": {
      "name": "python3",
      "display_name": "Python 3"
    },
    "language_info": {
      "name": "python"
    }
  },
  "cells": [
    {
      "cell_type": "markdown",
      "metadata": {
        "id": "view-in-github",
        "colab_type": "text"
      },
      "source": [
        "<a href=\"https://colab.research.google.com/github/alswns3760/colab/blob/main/Lession5.ipynb\" target=\"_parent\"><img src=\"https://colab.research.google.com/assets/colab-badge.svg\" alt=\"Open In Colab\"/></a>"
      ]
    },
    {
      "cell_type": "markdown",
      "source": [
        "if문 예제"
      ],
      "metadata": {
        "id": "35EDzlk1QJU7"
      }
    },
    {
      "cell_type": "code",
      "execution_count": null,
      "metadata": {
        "colab": {
          "base_uri": "https://localhost:8080/"
        },
        "id": "pms4yMy6QGST",
        "outputId": "9d00fc6d-30f0-4316-ca2a-5cb9b67e933f"
      },
      "outputs": [
        {
          "output_type": "stream",
          "name": "stdout",
          "text": [
            "100보다 작습니다.\n"
          ]
        }
      ],
      "source": [
        "num=99\n",
        "if num < 100 :\n",
        "  print(\"100보다 작습니다.\")"
      ]
    },
    {
      "cell_type": "code",
      "source": [
        "num = int(input(\"정수를 입력하세요 : \"))\n",
        "if (num%2==0) :\n",
        "   print(\"짝수입니다.\")\n",
        "else :\n",
        "   print(\"홀수입니다.\")"
      ],
      "metadata": {
        "colab": {
          "base_uri": "https://localhost:8080/"
        },
        "id": "mdokLMuOQ8Pq",
        "outputId": "7b7c21e9-0f40-403b-ce57-18acbb07b9d4"
      },
      "execution_count": 2,
      "outputs": [
        {
          "output_type": "stream",
          "name": "stdout",
          "text": [
            "정수를 입력하세요 : 3\n",
            "홀수입니다.\n"
          ]
        }
      ]
    },
    {
      "cell_type": "markdown",
      "source": [
        "랜덤 함수 import random"
      ],
      "metadata": {
        "id": "tMjhOx1xU1wA"
      }
    },
    {
      "cell_type": "code",
      "source": [
        "import random\n",
        "com_number = random.randint(1,45)\n",
        "print(\"** 컴퓨터가 생각한 숫자를 맞추는 게임 **\")\n",
        "print(\"숫자는 1부터 45까지입니다.\")\n",
        "user_number = \"\"\n",
        "while com_number != user_number :\n",
        "  user_number =  int(input(\"숫자를 입력 : \"))\n",
        "  if com_number > user_number :\n",
        "    print(\"입력한 숫자가 작습니다.\")\n",
        "  elif com_number < user_number :\n",
        "    print(\"입력한 숫자가 더 큽니다.\")\n",
        "  else :\n",
        "    print(\"정답\")"
      ],
      "metadata": {
        "colab": {
          "base_uri": "https://localhost:8080/"
        },
        "id": "p8aZOw6NSt4Z",
        "outputId": "90878055-bd68-4fbd-be6b-1647e2054214"
      },
      "execution_count": 8,
      "outputs": [
        {
          "output_type": "stream",
          "name": "stdout",
          "text": [
            "** 컴퓨터가 생각한 숫자를 맞추는 게임 **\n",
            "숫자는 1부터 45까지입니다.\n",
            "숫자를 입력 : 40\n",
            "입력한 숫자가 더 큽니다.\n",
            "숫자를 입력 : 12\n",
            "정답\n"
          ]
        }
      ]
    },
    {
      "cell_type": "code",
      "source": [
        "import random\n",
        "com_player = random.choice([\"가위\",\"바위\",\"보\"])\n",
        "print(\"** 가위 바위 보 게임 **\")\n",
        "count = 7\n",
        "while count > 0 :\n",
        "  user_player = input(\"가위/바위/보 중 하나를 입력하세요 ==>ㅂ\")\n",
        "  if (com_player ==  user_player ) :\n",
        "    print(\"비겼다.\")\n",
        "  elif ((com_player == \"가위\") and (user_player == \"바위\")) or \\\n",
        "  ((com_player == \"바위\") and (user_player == \"보\")) or \\\n",
        "  ((com_player == \"보\") and (user_player == \"가위\")) :\n",
        "   print(\"이겼다.\")\n",
        "  else :\n",
        "     print(\"졌다.\")\n",
        "  count = count - 1"
      ],
      "metadata": {
        "colab": {
          "base_uri": "https://localhost:8080/"
        },
        "id": "V3lLd0uyXFLV",
        "outputId": "def8a006-752d-4cd8-ab09-3ddfeea21472"
      },
      "execution_count": 22,
      "outputs": [
        {
          "output_type": "stream",
          "name": "stdout",
          "text": [
            "** 가위 바위 보 게임 **\n",
            "가위/바위/보 중 하나를 입력하세요 ==>보\n",
            "비겼다.\n",
            "가위/바위/보 중 하나를 입력하세요 ==>보\n",
            "비겼다.\n",
            "가위/바위/보 중 하나를 입력하세요 ==>보\n",
            "비겼다.\n",
            "가위/바위/보 중 하나를 입력하세요 ==>보\n",
            "비겼다.\n",
            "가위/바위/보 중 하나를 입력하세요 ==>ㅗ\n",
            "졌다.\n",
            "가위/바위/보 중 하나를 입력하세요 ==>보\n",
            "비겼다.\n",
            "가위/바위/보 중 하나를 입력하세요 ==>보\n",
            "비겼다.\n"
          ]
        }
      ]
    }
  ]
}