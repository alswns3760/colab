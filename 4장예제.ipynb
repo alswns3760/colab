{
  "nbformat": 4,
  "nbformat_minor": 0,
  "metadata": {
    "colab": {
      "name": "4장예제.ipynb",
      "provenance": [],
      "authorship_tag": "ABX9TyPkz2ZVhd1cfL0RM4Dib1oC",
      "include_colab_link": true
    },
    "kernelspec": {
      "name": "python3",
      "display_name": "Python 3"
    },
    "language_info": {
      "name": "python"
    }
  },
  "cells": [
    {
      "cell_type": "markdown",
      "metadata": {
        "id": "view-in-github",
        "colab_type": "text"
      },
      "source": [
        "<a href=\"https://colab.research.google.com/github/alswns3760/colab/blob/main/4%EC%9E%A5%EC%98%88%EC%A0%9C.ipynb\" target=\"_parent\"><img src=\"https://colab.research.google.com/assets/colab-badge.svg\" alt=\"Open In Colab\"/></a>"
      ]
    },
    {
      "cell_type": "code",
      "execution_count": null,
      "metadata": {
        "colab": {
          "base_uri": "https://localhost:8080/"
        },
        "id": "TJY-SqBZyGT7",
        "outputId": "70ae8812-2c4c-485b-9646-cc5280b1003e"
      },
      "outputs": [
        {
          "output_type": "stream",
          "name": "stdout",
          "text": [
            "\n",
            "줄바꿈\n",
            "연습 \n",
            "\t탭키\t연습\n",
            "어떤 글자를 \"강조\"하는 효과1\n",
            "어떤 글자를 '강조'하는 효과2\n",
            "\\\\  백슬래시 2개 출력\n"
          ]
        }
      ],
      "source": [
        "print(\"\\n줄바꿈\\n연습 \")\n",
        "print(\"\\t탭키\\t연습\")\n",
        "print(\"어떤 글자를 \\\"강조\\\"하는 효과1\")\n",
        "print(\"어떤 글자를 \\'강조\\'하는 효과2\")\n",
        "print(\"\\\\\\\\  백슬래시 2개 출력\")"
      ]
    },
    {
      "cell_type": "markdown",
      "source": [
        "형성평가 : 두 문자열을 입력받고 두 문자열의 길이 차이를 체크하기"
      ],
      "metadata": {
        "id": "8P0IXzPn4yap"
      }
    },
    {
      "cell_type": "code",
      "source": [
        "a=input(\"입력1 \")\n",
        "b=input(\"입력2 \")\n",
        "c=len(a)\n",
        "d=len(b)\n",
        "print(\"길이의 차이\",c-d)"
      ],
      "metadata": {
        "colab": {
          "base_uri": "https://localhost:8080/"
        },
        "id": "c7sCf6TT44JB",
        "outputId": "eaad6e7e-d3e2-46ab-f375-87baddbcbbe3"
      },
      "execution_count": null,
      "outputs": [
        {
          "output_type": "stream",
          "name": "stdout",
          "text": [
            "입력1 dasdsadas\n",
            "입력2 dsadjas\n",
            "길이의 차이 2\n"
          ]
        }
      ]
    },
    {
      "cell_type": "code",
      "source": [
        "str1 = input(\"문자열 입력 : \")\n",
        "print(\"입력된 문자열의 길이 : \",len(str1))\n",
        "print(\"입력된 문자열을 대문자로 변환 : \",str1.upper())\n",
        "print(\"입력된 문자열을 소문자로 변환 : \",str1.lower())\n",
        "print(\"입력된 문자열 중 ansan 몇번 나오는지 : \",str1.count(\"ansna\"))\n",
        "print(\"입력된 문자열은 대문자인가요?\",str1.isupper())\n",
        "print(\"입력된 문자열은 소문자인가요?\",str1.islower())"
      ],
      "metadata": {
        "colab": {
          "base_uri": "https://localhost:8080/"
        },
        "id": "Sm7vJ9srfara",
        "outputId": "a9cdf933-5118-4a10-dfc4-27b2b4c3be11"
      },
      "execution_count": 4,
      "outputs": [
        {
          "output_type": "stream",
          "name": "stdout",
          "text": [
            "문자열 입력 : 오늘은 금요일, 내일은 토요일 have a nice day!\n",
            "입력된 문자열의 길이 :  33\n",
            "입력된 문자열을 대문자로 변환 :  오늘은 금요일, 내일은 토요일 HAVE A NICE DAY!\n",
            "입력된 문자열을 소문자로 변환 :  오늘은 금요일, 내일은 토요일 have a nice day!\n",
            "입력된 문자열 중 ansan 몇번 나오는지 :  0\n",
            "입력된 문자열은 대문자인가요? False\n",
            "입력된 문자열은 소문자인가요? True\n"
          ]
        }
      ]
    },
    {
      "cell_type": "code",
      "source": [
        "Iyrics = \"\"\"\n",
        "When I find myself in times of trouble\n",
        "Mother Mary comes to me\n",
        "Speaking words of wisdom\n",
        "Let it be\n",
        "And in my hour of darkness\n",
        "She is standing right in front of me\n",
        "Speaking words of wisdom\n",
        "Let it be\n",
        "Let is be, let it be\n",
        "Let it be, let it be\n",
        "Whisper words of wisdom\n",
        "Let it be\n",
        "And when the brokenhearted people\n",
        "Living in the world agree\n",
        "There will be an answer\n",
        "Let it be\n",
        "For though they may be parted\n",
        "There is still a chance that they will see\n",
        "There will be an answer\n",
        "Let it be\n",
        "Let is be, let it be\n",
        "Let it be, let it be\n",
        "Yeah, there will be an answer\n",
        "Let it be\n",
        "Let is be, let it be\n",
        "Let it be, let it be\n",
        "Whisper words of wisdom\n",
        "Let it be\n",
        "Let is be, let it be\n",
        "Let it be, yeah, let it be\n",
        "Whisper words of wisdom\n",
        "Let it be\n",
        "And when the night is cloudy\n",
        "There is still a light that shines on me\n",
        "Shine on 'til tomorrow\n",
        "Let it be\n",
        "I wake up to the sound of music\n",
        "Mother Mary comes to me\n",
        "Speaking words of wisdom\n",
        "Let it be, yeah\n",
        "Let it be, let it be\n",
        "Let it be, yeah, let it be\n",
        "Oh, there will be an answer\n",
        "Let it be\n",
        "Let it be, let it be\n",
        "Let it be, yeah, let it be\n",
        "Whisper words of wisdom\n",
        "Let it be\n",
        "\"\"\"\n",
        "Iyrics = Iyrics.upper()\n",
        "count = Iyrics.count(\"LET IT BE\")\n",
        "print(\"Let it Be 노래에서 'Let it be' 라는 단어는 총 \", \\\n",
        "      count,\"번 나옵니다.\")"
      ],
      "metadata": {
        "colab": {
          "base_uri": "https://localhost:8080/"
        },
        "id": "6Fz8aRl5hHx3",
        "outputId": "271f8008-1e62-4dbd-ea42-0867fa7f0832"
      },
      "execution_count": 9,
      "outputs": [
        {
          "output_type": "stream",
          "name": "stdout",
          "text": [
            "Let it Be 노래에서 'Let it be' 라는 단어는 총  32 번 나옵니다.\n"
          ]
        }
      ]
    },
    {
      "cell_type": "code",
      "source": [
        "Iyrics=\"\"\"\n",
        "Yesterday\n",
        "All my trouble seemed so far away\n",
        "Now it looks as though they're here to stay\n",
        "Oh, I believe in yesterday\n",
        "Suddenly\n",
        "I'm not half the man I used to be\n",
        "There's a shadow hanging over me\n",
        "Oh, yesterday came suddenly\n",
        "Why she had to go, I don't know\n",
        "She wouldn't say\n",
        "I said something wrong\n",
        "Now I long for yesterday\n",
        "Yesterday\n",
        "Love was such an easy game to play\n",
        "Now I need a place to hide away\n",
        "Oh, I believe in yesterday\n",
        "Why she had to go, I don't know\n",
        "She wouldn't say\n",
        "I said something wrong\n",
        "Now I long for yesterday\n",
        "Yesterday\n",
        "Love was such an easy game to play\n",
        "Now I need a place to hide away\n",
        "Oh, I believe in yesterday\n",
        "\"\"\"\n",
        "Iyrics = Iyrics.upper()\n",
        "count = Iyrics.count(\"YESTERDAY\")\n",
        "print(\"yesterday 노래에서 'yesterday' 라는 단어는 총 \", \\   \n",
        "      count,\"번 나옵니다.\")"
      ],
      "metadata": {
        "colab": {
          "base_uri": "https://localhost:8080/"
        },
        "id": "vK65TYFGjvRk",
        "outputId": "a307b592-0cf8-4c5f-a8d6-3f1f666c0976"
      },
      "execution_count": 10,
      "outputs": [
        {
          "output_type": "stream",
          "name": "stdout",
          "text": [
            "yesterday 노래에서 'yesterday' 라는 단어는 총  9 번 나옵니다.\n"
          ]
        }
      ]
    },
    {
      "cell_type": "code",
      "source": [
        "myList = [\"안산공고\",\"컴퓨터\",3,1,2022]\n",
        "#print(myLIst)\n",
        "print(myList[0])"
      ],
      "metadata": {
        "colab": {
          "base_uri": "https://localhost:8080/"
        },
        "id": "Sma8qaVrmE0z",
        "outputId": "a732ff8e-c049-4d56-d5ba-d2dbcfad2ed6"
      },
      "execution_count": 13,
      "outputs": [
        {
          "output_type": "stream",
          "name": "stdout",
          "text": [
            "안산공고\n"
          ]
        }
      ]
    },
    {
      "cell_type": "code",
      "source": [
        "str1 =\"Ansna Technical High School\"\n",
        "print(str1)\n",
        "print(str1[16:20])"
      ],
      "metadata": {
        "colab": {
          "base_uri": "https://localhost:8080/"
        },
        "id": "KRjW-DIjmsmq",
        "outputId": "581c1b49-6f6d-4108-9661-9ad47c1cb42d"
      },
      "execution_count": 23,
      "outputs": [
        {
          "output_type": "stream",
          "name": "stdout",
          "text": [
            "Ansna Technical High School\n",
            "High\n"
          ]
        }
      ]
    },
    {
      "cell_type": "code",
      "source": [
        "while True : \n",
        "  str1 = input(\"문자열 입력 : \")\n",
        "  if str1 == \"q\" :\n",
        "    break\n",
        "print(str1)"
      ],
      "metadata": {
        "colab": {
          "base_uri": "https://localhost:8080/"
        },
        "id": "T5gjbDT2n66t",
        "outputId": "bfc5ec06-52f7-4f92-b3b9-8a22de68e252"
      },
      "execution_count": 29,
      "outputs": [
        {
          "output_type": "stream",
          "name": "stdout",
          "text": [
            "문자열 입력 : qqq\n",
            "문자열 입력 : q\n",
            "q\n"
          ]
        }
      ]
    },
    {
      "cell_type": "markdown",
      "source": [
        "문자열을 거꾸로 출력"
      ],
      "metadata": {
        "id": "ESKA_4y7r4E4"
      }
    },
    {
      "cell_type": "code",
      "source": [
        "ss = \"트와이스\"\n",
        "print(\"원본 문자열\",ss)\n",
        "\n",
        "print(\"반대 문자열\",end=' ')\n",
        "print(ss[3],end='')\n",
        "print(ss[2],end='')\n",
        "print(ss[1],end='')\n",
        "print(ss[0],end='')"
      ],
      "metadata": {
        "colab": {
          "base_uri": "https://localhost:8080/"
        },
        "id": "8UKG7fobrUp0",
        "outputId": "79803ac5-bddb-46ce-f277-f72237e7335e"
      },
      "execution_count": 32,
      "outputs": [
        {
          "output_type": "stream",
          "name": "stdout",
          "text": [
            "원본 문자열 트와이스\n",
            "반대 문자열 스이와트"
          ]
        }
      ]
    },
    {
      "cell_type": "code",
      "source": [
        "singer = input(\"가수 이름을 입력 : \")\n",
        "singer_len = len(singer)\n",
        "while singer_len > 0 : \n",
        "  print(singer[singer_len-1])\n",
        "  singer_len = singer_len - 1"
      ],
      "metadata": {
        "colab": {
          "base_uri": "https://localhost:8080/"
        },
        "id": "kkAyzd3zr8MW",
        "outputId": "82d73744-f47f-47e1-ade0-a55db12ac3b8"
      },
      "execution_count": 38,
      "outputs": [
        {
          "output_type": "stream",
          "name": "stdout",
          "text": [
            "가수 이름을 입력 : 트와이스\n",
            "스\n",
            "이\n",
            "와\n",
            "트\n"
          ]
        }
      ]
    },
    {
      "cell_type": "code",
      "source": [
        "singer = input(\"가수 이름을 입력 : \")\n",
        "singer_len = len(singer)\n",
        "r_singer =\"\"\n",
        "while singer_len > 0 : \n",
        "  print(r_singer + singer[singer_len-1])\n",
        "  singer_len = singer_len - 1\n",
        "print(\"가수이름을 꺼구로 출력 : \",r_singer)"
      ],
      "metadata": {
        "colab": {
          "base_uri": "https://localhost:8080/"
        },
        "id": "U0nI8mXYs8g-",
        "outputId": "6cdf8729-d2b3-4117-daf3-fe9bcef4b173"
      },
      "execution_count": 44,
      "outputs": [
        {
          "output_type": "stream",
          "name": "stdout",
          "text": [
            "가수 이름을 입력 : 트와이스\n",
            "스\n",
            "이\n",
            "와\n",
            "트\n",
            "가수이름을 꺼구로 출력 :  \n"
          ]
        }
      ]
    },
    {
      "cell_type": "markdown",
      "source": [
        "입력받은 문자열에서 대문자는 소문자로 소문자는 대문자로 변환하는 프로그램"
      ],
      "metadata": {
        "id": "FYcK9FqjvvIB"
      }
    },
    {
      "cell_type": "code",
      "source": [
        "str1 = input(\"원본 문자열 입력 : \")\n",
        "str2 = \"\"\n",
        "index = 0\n",
        "while len(str1) > index :\n",
        "  if str1[index].isupper():\n",
        "    str2 = str2+str1[index].lower()\n",
        "  else :\n",
        "    str2 = str2+str1[index].upper()\n",
        "  index = index + 1\n",
        "print(\"변경한 문자열 : \",str1)"
      ],
      "metadata": {
        "colab": {
          "base_uri": "https://localhost:8080/"
        },
        "id": "YxsWhwUPwEuI",
        "outputId": "d6effb5a-ce21-42e4-a1d9-dad8dba49f6a"
      },
      "execution_count": 96,
      "outputs": [
        {
          "output_type": "stream",
          "name": "stdout",
          "text": [
            "원본 문자열 입력 : adfaA\n",
            "변경한 문자열 :  adfaA\n"
          ]
        }
      ]
    },
    {
      "cell_type": "code",
      "source": [
        "str1 = input(\"원본 문자열 입력 : \")\n",
        "print(\"변경한 문자열 : \")\n",
        "for i in range(len(str1)):\n",
        "  if str1[i].isupper() == True:\n",
        "    print(str1[i].lower(),end=\"\")\n",
        "  else :\n",
        "    print(str1[i].upper(),end=\"\")"
      ],
      "metadata": {
        "colab": {
          "base_uri": "https://localhost:8080/"
        },
        "id": "FOQqZ3m60wK6",
        "outputId": "55a9e3cf-8f0a-444f-eac7-3822361f0a2a"
      },
      "execution_count": 93,
      "outputs": [
        {
          "output_type": "stream",
          "name": "stdout",
          "text": [
            "원본 문자열 입력 : dasdaA\n",
            "변경한 문자열 : \n",
            "DASDAa"
          ]
        }
      ]
    }
  ]
}