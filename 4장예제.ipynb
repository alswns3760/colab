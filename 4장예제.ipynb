{
  "nbformat": 4,
  "nbformat_minor": 0,
  "metadata": {
    "colab": {
      "name": "4장예제.ipynb",
      "provenance": [],
      "authorship_tag": "ABX9TyMmtw7hgOf1dH34pEMhjevq",
      "include_colab_link": true
    },
    "kernelspec": {
      "name": "python3",
      "display_name": "Python 3"
    },
    "language_info": {
      "name": "python"
    }
  },
  "cells": [
    {
      "cell_type": "markdown",
      "metadata": {
        "id": "view-in-github",
        "colab_type": "text"
      },
      "source": [
        "<a href=\"https://colab.research.google.com/github/alswns3760/colab/blob/main/4%EC%9E%A5%EC%98%88%EC%A0%9C.ipynb\" target=\"_parent\"><img src=\"https://colab.research.google.com/assets/colab-badge.svg\" alt=\"Open In Colab\"/></a>"
      ]
    },
    {
      "cell_type": "code",
      "execution_count": 1,
      "metadata": {
        "colab": {
          "base_uri": "https://localhost:8080/"
        },
        "id": "TJY-SqBZyGT7",
        "outputId": "70ae8812-2c4c-485b-9646-cc5280b1003e"
      },
      "outputs": [
        {
          "output_type": "stream",
          "name": "stdout",
          "text": [
            "\n",
            "줄바꿈\n",
            "연습 \n",
            "\t탭키\t연습\n",
            "어떤 글자를 \"강조\"하는 효과1\n",
            "어떤 글자를 '강조'하는 효과2\n",
            "\\\\  백슬래시 2개 출력\n"
          ]
        }
      ],
      "source": [
        "print(\"\\n줄바꿈\\n연습 \")\n",
        "print(\"\\t탭키\\t연습\")\n",
        "print(\"어떤 글자를 \\\"강조\\\"하는 효과1\")\n",
        "print(\"어떤 글자를 \\'강조\\'하는 효과2\")\n",
        "print(\"\\\\\\\\  백슬래시 2개 출력\")"
      ]
    },
    {
      "cell_type": "markdown",
      "source": [
        "형성평가 : 두 문자열을 입력받고 두 문자열의 길이 차이를 체크하기"
      ],
      "metadata": {
        "id": "8P0IXzPn4yap"
      }
    },
    {
      "cell_type": "code",
      "source": [
        "a=input(\"입력1 \")\n",
        "b=input(\"입력2 \")\n",
        "c=len(a)\n",
        "d=len(b)\n",
        "print(\"길이의 차이\",c-d)"
      ],
      "metadata": {
        "colab": {
          "base_uri": "https://localhost:8080/"
        },
        "id": "c7sCf6TT44JB",
        "outputId": "eaad6e7e-d3e2-46ab-f375-87baddbcbbe3"
      },
      "execution_count": 7,
      "outputs": [
        {
          "output_type": "stream",
          "name": "stdout",
          "text": [
            "입력1 dasdsadas\n",
            "입력2 dsadjas\n",
            "길이의 차이 2\n"
          ]
        }
      ]
    },
    {
      "cell_type": "code",
      "source": [
        "ss=\"트와이스\"\n",
        "print(\"원본 문자열 ==> 트와이스\")\n",
        "\n",
        "print(\"반대 문자열 ==>\",end=' ')\n",
        "print(ss[3], end='')\n",
        "print(ss[2], end='')\n",
        "print(ss[1], end='')\n",
        "print(ss[0], end='')"
      ],
      "metadata": {
        "colab": {
          "base_uri": "https://localhost:8080/"
        },
        "id": "Vtm-Pc2e8msI",
        "outputId": "39315a25-052d-4f90-bf44-eef455fa600b"
      },
      "execution_count": 10,
      "outputs": [
        {
          "output_type": "stream",
          "name": "stdout",
          "text": [
            "원본 문자열 ==> 트와이스\n",
            "반대 문자열 ==> 스이와트"
          ]
        }
      ]
    }
  ]
}