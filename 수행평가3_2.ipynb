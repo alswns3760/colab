{
  "nbformat": 4,
  "nbformat_minor": 0,
  "metadata": {
    "colab": {
      "provenance": [],
      "authorship_tag": "ABX9TyOXC/k6g1cvjqApnPfadjNE",
      "include_colab_link": true
    },
    "kernelspec": {
      "name": "python3",
      "display_name": "Python 3"
    },
    "language_info": {
      "name": "python"
    }
  },
  "cells": [
    {
      "cell_type": "markdown",
      "metadata": {
        "id": "view-in-github",
        "colab_type": "text"
      },
      "source": [
        "<a href=\"https://colab.research.google.com/github/alswns3760/colab/blob/main/%EC%88%98%ED%96%89%ED%8F%89%EA%B0%803_2.ipynb\" target=\"_parent\"><img src=\"https://colab.research.google.com/assets/colab-badge.svg\" alt=\"Open In Colab\"/></a>"
      ]
    },
    {
      "cell_type": "code",
      "execution_count": 14,
      "metadata": {
        "colab": {
          "base_uri": "https://localhost:8080/"
        },
        "id": "lcC4F4KKBG50",
        "outputId": "acaa52a9-b239-4eaa-e995-492d215b3fc4"
      },
      "outputs": [
        {
          "output_type": "stream",
          "name": "stdout",
          "text": [
            "숫자를 입력 ==> 150\n",
            "100 보다 크고 1000 보다 작습니다\n"
          ]
        }
      ],
      "source": [
        "num = int(input(\"숫자를 입력 ==> \"))\n",
        "\n",
        "if num > 100 and num < 1000:\n",
        "  print(\"100 보다 크고 1000 보다 작습니다\")\n",
        "\n",
        "else :\n",
        "  print(\"100보다 작고 1000 보다 큽니다\")"
      ]
    }
  ]
}