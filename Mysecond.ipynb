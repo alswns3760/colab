{
  "nbformat": 4,
  "nbformat_minor": 0,
  "metadata": {
    "colab": {
      "name": "Mysecond.ipynb",
      "provenance": [],
      "authorship_tag": "ABX9TyOW5TRACgwq1EeWQTRmwpg2",
      "include_colab_link": true
    },
    "kernelspec": {
      "name": "python3",
      "display_name": "Python 3"
    },
    "language_info": {
      "name": "python"
    }
  },
  "cells": [
    {
      "cell_type": "markdown",
      "metadata": {
        "id": "view-in-github",
        "colab_type": "text"
      },
      "source": [
        "<a href=\"https://colab.research.google.com/github/alswns3760/colab/blob/main/Mysecond.ipynb\" target=\"_parent\"><img src=\"https://colab.research.google.com/assets/colab-badge.svg\" alt=\"Open In Colab\"/></a>"
      ]
    },
    {
      "cell_type": "code",
      "execution_count": 4,
      "metadata": {
        "colab": {
          "base_uri": "https://localhost:8080/"
        },
        "id": "Fc1PPzQiQiiM",
        "outputId": "6d50684b-9d5a-4733-b04a-1f5b95046d44"
      },
      "outputs": [
        {
          "output_type": "stream",
          "name": "stdout",
          "text": [
            "두 번째 파일입니다.\n",
            "난생처음 파이썬을 공부하지만, 점점 익숙해지는것 같아요. :)\n"
          ]
        }
      ],
      "source": [
        "print(\"두 번째 파일입니다.\")\n",
        "print(\"난생처음 파이썬을 공부하지만, 점점 익숙해지는것 같아요. :)\")"
      ]
    }
  ]
}