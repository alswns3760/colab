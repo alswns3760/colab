{
  "nbformat": 4,
  "nbformat_minor": 0,
  "metadata": {
    "colab": {
      "provenance": [],
      "authorship_tag": "ABX9TyPdD9oGpSRxTEDU8aDv/XM6",
      "include_colab_link": true
    },
    "kernelspec": {
      "name": "python3",
      "display_name": "Python 3"
    },
    "language_info": {
      "name": "python"
    }
  },
  "cells": [
    {
      "cell_type": "markdown",
      "metadata": {
        "id": "view-in-github",
        "colab_type": "text"
      },
      "source": [
        "<a href=\"https://colab.research.google.com/github/alswns3760/colab/blob/main/Lession_7.ipynb\" target=\"_parent\"><img src=\"https://colab.research.google.com/assets/colab-badge.svg\" alt=\"Open In Colab\"/></a>"
      ]
    },
    {
      "cell_type": "code",
      "execution_count": null,
      "metadata": {
        "colab": {
          "base_uri": "https://localhost:8080/"
        },
        "id": "8dTbRHsxw8Zd",
        "outputId": "c7bfe70e-e244-4673-b9df-0258439f9ffa"
      },
      "outputs": [
        {
          "output_type": "stream",
          "name": "stdout",
          "text": [
            "오늘의 명언 ==> 길이 없으면 길을 찾아라. 찾아도 없으면 길을 닦아 나가야한다.\n"
          ]
        }
      ],
      "source": [
        "import random\n",
        "\n",
        "wiseSay = [\"미래 계획하고 준비하는 자에게 복이 함께 할 지어다.\",\n",
        "           \"작은 성공부터 시작하라.성공에 익숙해지면 무슨목표든지 할 수 있다는 자신감이 생긴다.\",\n",
        "           \"팀워크의 좋은 점은 항상 지원해줄 사람들이 있다는 것이다.\",\n",
        "           \"길이 없으면 길을 찾아라. 찾아도 없으면 길을 닦아 나가야한다.\",\n",
        "           \"사람은 누구나 자기가 할 수있다고 생각하는것 이상의 것을 할 수 있습니다.\",\n",
        "           \"허들을 넘듯 도전 과제들이 계속 등장 하는게 삶이다.\",\n",
        "           \"신뢰와 존경은 믿음직스럽게 행동할 때 생겨난다.\"]\n",
        "today = random.randint(0, len(wiseSay)-1)\n",
        "print(\"오늘의 명언 ==>\", wiseSay[today])"
      ]
    },
    {
      "cell_type": "code",
      "source": [
        "numlist2 = [[1,2,3,4],\n",
        "            [5,6,7,8],\n",
        "            [9,10,11,12]]\n",
        "\n",
        "for i in range(0,3) :\n",
        "  for k in range(0,4) :\n",
        "    print(\" \", numlist2[i][k], end='')\n",
        "  print(\"\")"
      ],
      "metadata": {
        "colab": {
          "base_uri": "https://localhost:8080/"
        },
        "id": "3zoTO-Zf6w9H",
        "outputId": "2510cd00-2312-4db4-c37d-d64c43c7a708"
      },
      "execution_count": null,
      "outputs": [
        {
          "output_type": "stream",
          "name": "stdout",
          "text": [
            "  1  2  3  4\n",
            "  5  6  7  8\n",
            "  9  10  11  12\n"
          ]
        }
      ]
    },
    {
      "cell_type": "code",
      "source": [
        "print(\"홍길동 선수 경기가 끝났습니다~~ 짝짝짝\")\n",
        "\n",
        "score = []\n",
        "for i in range(5) :\n",
        "  jumsu = int(input(\"평균 점수 ==>\"))\n",
        "  score.append(jumsu)\n",
        "\n",
        "hap = 0\n",
        "for i in range(5) :\n",
        "  hap += score[i]\n",
        "\n",
        "avg = hap / 5\n",
        "print(\"심사위원 평균 점수 : \",avg)"
      ],
      "metadata": {
        "colab": {
          "base_uri": "https://localhost:8080/"
        },
        "id": "Mvn2GSnf8s0e",
        "outputId": "05c12751-cf4c-4f94-945c-1990c7b7fef2"
      },
      "execution_count": null,
      "outputs": [
        {
          "output_type": "stream",
          "name": "stdout",
          "text": [
            "홍길동 선수 경기가 끝났습니다~~ 짝짝짝\n",
            "평균 점수 ==>10\n",
            "평균 점수 ==>6\n",
            "평균 점수 ==>2\n",
            "평균 점수 ==>9\n",
            "평균 점수 ==>7\n",
            "심사위원 평균 점수 :  6.8\n"
          ]
        }
      ]
    },
    {
      "cell_type": "code",
      "source": [
        "toss = []\n",
        "for i in range(10000) :\n",
        "  comA = random.choice([\"가위\",\"바위\",\"보\"])\n",
        "  comB = random.choice([\"가위\",\"바위\",\"보\"])\n",
        "  if (comA == comB) :\n",
        "    toss.append(\"비김\")\n",
        "  elif (comA == \"가위\") and (comB == \"보\") or \\\n",
        "       (comA == \"바위\") and (comB == \"가위\") or \\\n",
        "       (comA == \"보\") and (comB ==\"바위\") :\n",
        "       toss.append(\"A\")\n",
        "  else :\n",
        "       toss.append(\"B\")\n",
        "  #print(comA, comB, toss[i])\n",
        "\n",
        "aWin = toss.count(\"A\")\n",
        "bwin = toss.count(\"B\")"
      ],
      "metadata": {
        "id": "lt_7_2Nr_CE-"
      },
      "execution_count": null,
      "outputs": []
    },
    {
      "cell_type": "code",
      "source": [
        "singer = {}\n",
        "singer ['이름'] = '트와이스'\n",
        "singer ['구성원수'] = 9\n",
        "singer ['데뷰'] = '서바이벌 식스틴'\n",
        "singer ['대표곡'] = 'CRY FOR ME'\n",
        "\n",
        "for k in singer .keys() :\n",
        "  print(k, \"==>\", singer[k])\n",
        "\n"
      ],
      "metadata": {
        "colab": {
          "base_uri": "https://localhost:8080/"
        },
        "id": "GLaLZf7QNLv2",
        "outputId": "630790fb-507c-4aaf-e3d4-f08d14971b0d"
      },
      "execution_count": null,
      "outputs": [
        {
          "output_type": "stream",
          "name": "stdout",
          "text": [
            "이름 ==> 트와이스\n",
            "구성원수 ==> 9\n",
            "데뷰 ==> 서바이벌 식스틴\n",
            "대표곡 ==> CRY FOR ME\n"
          ]
        }
      ]
    },
    {
      "cell_type": "code",
      "source": [
        "store = {}\n",
        "print(\"*** 물품과 재고량 입력 ***\")\n",
        "while True :\n",
        "  article = input(\"입력 물품 : \")\n",
        "  if article == \"z\" :\n",
        "      break\n",
        "  store[article] = int(input(\"재고량 ==> \"))\n",
        "print(\"*** 물품의 재고량 확인 ***\")\n",
        "while True :\n",
        "  find_article = input(\"찾을 물품 : \")\n",
        "  if find_article in store.keys() :\n",
        "    print(store[find_article],\"개 남았습니다.\")\n",
        "  if find_article == \"\" :\n",
        "    break\n",
        "  else :\n",
        "    print(\"그 물품은 없어요.\")"
      ],
      "metadata": {
        "id": "9UMB-pC_Hdjt",
        "outputId": "af61d10c-0711-4304-b680-d5944a310f92",
        "colab": {
          "base_uri": "https://localhost:8080/",
          "height": 339
        }
      },
      "execution_count": 8,
      "outputs": [
        {
          "name": "stdout",
          "output_type": "stream",
          "text": [
            "*** 물품과 재고량 입력 ***\n",
            "입력 물품 : 김\n",
            "재고량 ==> 13\n",
            "입력 물품 : 밥\n",
            "재고량 ==> z\n"
          ]
        },
        {
          "output_type": "error",
          "ename": "ValueError",
          "evalue": "ignored",
          "traceback": [
            "\u001b[0;31m---------------------------------------------------------------------------\u001b[0m",
            "\u001b[0;31mValueError\u001b[0m                                Traceback (most recent call last)",
            "\u001b[0;32m<ipython-input-8-5714fdac7257>\u001b[0m in \u001b[0;36m<module>\u001b[0;34m\u001b[0m\n\u001b[1;32m      5\u001b[0m   \u001b[0;32mif\u001b[0m \u001b[0marticle\u001b[0m \u001b[0;34m==\u001b[0m \u001b[0;34m\"z\"\u001b[0m \u001b[0;34m:\u001b[0m\u001b[0;34m\u001b[0m\u001b[0;34m\u001b[0m\u001b[0m\n\u001b[1;32m      6\u001b[0m       \u001b[0;32mbreak\u001b[0m\u001b[0;34m\u001b[0m\u001b[0;34m\u001b[0m\u001b[0m\n\u001b[0;32m----> 7\u001b[0;31m   \u001b[0mstore\u001b[0m\u001b[0;34m[\u001b[0m\u001b[0marticle\u001b[0m\u001b[0;34m]\u001b[0m \u001b[0;34m=\u001b[0m \u001b[0mint\u001b[0m\u001b[0;34m(\u001b[0m\u001b[0minput\u001b[0m\u001b[0;34m(\u001b[0m\u001b[0;34m\"재고량 ==> \"\u001b[0m\u001b[0;34m)\u001b[0m\u001b[0;34m)\u001b[0m\u001b[0;34m\u001b[0m\u001b[0;34m\u001b[0m\u001b[0m\n\u001b[0m\u001b[1;32m      8\u001b[0m \u001b[0mprint\u001b[0m\u001b[0;34m(\u001b[0m\u001b[0;34m\"*** 물품의 재고량 확인 ***\"\u001b[0m\u001b[0;34m)\u001b[0m\u001b[0;34m\u001b[0m\u001b[0;34m\u001b[0m\u001b[0m\n\u001b[1;32m      9\u001b[0m \u001b[0;32mwhile\u001b[0m \u001b[0;32mTrue\u001b[0m \u001b[0;34m:\u001b[0m\u001b[0;34m\u001b[0m\u001b[0;34m\u001b[0m\u001b[0m\n",
            "\u001b[0;31mValueError\u001b[0m: invalid literal for int() with base 10: 'z'"
          ]
        }
      ]
    },
    {
      "cell_type": "code",
      "source": [
        "#!pip3 install ColabTurtle\n",
        "import ColabTurtle.Turtle as turtle\n",
        "import random\n",
        "myT = []\n",
        "colorList = [\"red\",\"green\",\"yellow\",\"blue\",\"gray\"]\n",
        "shapeList = [\"circle\",\"turtle\"]\n",
        "turtle.initializeTurtle()\n",
        "turtle.speed(10)\n",
        "for i in range(0,100) :\n",
        "    shape = random.choice(shapeList)\n",
        "    color = random.choice(colorList)\n",
        "    x = random.randint(0,750)\n",
        "    y = random.randint(0,550)\n",
        "    myTurtle = turtle.Turtle_shape = shape\n",
        "    tup = (myTurtle, color, x, y)\n",
        "    myT.append(tup)\n",
        "\n",
        "for t in myT :\n",
        "    turtle.color(t[1])\n",
        "    turtle.goto(t[2],t[3])\n",
        "    turtle.home()\n"
      ],
      "metadata": {
        "id": "jhncAuGUMv-l",
        "outputId": "558eb0f2-89b3-4b37-8116-19913034faca",
        "colab": {
          "base_uri": "https://localhost:8080/",
          "height": 520
        }
      },
      "execution_count": 27,
      "outputs": [
        {
          "output_type": "display_data",
          "data": {
            "text/plain": [
              "<IPython.core.display.HTML object>"
            ],
            "text/html": [
              "\n",
              "      <svg width=\"800\" height=\"500\">\n",
              "        <rect width=\"100%\" height=\"100%\" fill=\"black\"/>\n",
              "        <line x1=\"400\" y1=\"250\" x2=\"260\" y2=\"16\" stroke-linecap=\"round\" style=\"stroke:yellow;stroke-width:4\"/><line x1=\"260\" y1=\"16\" x2=\"400\" y2=\"250\" stroke-linecap=\"round\" style=\"stroke:yellow;stroke-width:4\"/><line x1=\"400\" y1=\"250\" x2=\"441\" y2=\"35\" stroke-linecap=\"round\" style=\"stroke:yellow;stroke-width:4\"/><line x1=\"441\" y1=\"35\" x2=\"400\" y2=\"250\" stroke-linecap=\"round\" style=\"stroke:yellow;stroke-width:4\"/><line x1=\"400\" y1=\"250\" x2=\"475\" y2=\"204\" stroke-linecap=\"round\" style=\"stroke:yellow;stroke-width:4\"/><line x1=\"475\" y1=\"204\" x2=\"400\" y2=\"250\" stroke-linecap=\"round\" style=\"stroke:yellow;stroke-width:4\"/><line x1=\"400\" y1=\"250\" x2=\"699\" y2=\"159\" stroke-linecap=\"round\" style=\"stroke:blue;stroke-width:4\"/><line x1=\"699\" y1=\"159\" x2=\"400\" y2=\"250\" stroke-linecap=\"round\" style=\"stroke:blue;stroke-width:4\"/><line x1=\"400\" y1=\"250\" x2=\"106\" y2=\"139\" stroke-linecap=\"round\" style=\"stroke:green;stroke-width:4\"/><line x1=\"106\" y1=\"139\" x2=\"400\" y2=\"250\" stroke-linecap=\"round\" style=\"stroke:green;stroke-width:4\"/><line x1=\"400\" y1=\"250\" x2=\"496\" y2=\"346\" stroke-linecap=\"round\" style=\"stroke:green;stroke-width:4\"/><line x1=\"496\" y1=\"346\" x2=\"400\" y2=\"250\" stroke-linecap=\"round\" style=\"stroke:green;stroke-width:4\"/><line x1=\"400\" y1=\"250\" x2=\"416\" y2=\"9\" stroke-linecap=\"round\" style=\"stroke:red;stroke-width:4\"/><line x1=\"416\" y1=\"9\" x2=\"400\" y2=\"250\" stroke-linecap=\"round\" style=\"stroke:red;stroke-width:4\"/><line x1=\"400\" y1=\"250\" x2=\"474\" y2=\"113\" stroke-linecap=\"round\" style=\"stroke:blue;stroke-width:4\"/><line x1=\"474\" y1=\"113\" x2=\"400\" y2=\"250\" stroke-linecap=\"round\" style=\"stroke:blue;stroke-width:4\"/><line x1=\"400\" y1=\"250\" x2=\"79\" y2=\"99\" stroke-linecap=\"round\" style=\"stroke:red;stroke-width:4\"/><line x1=\"79\" y1=\"99\" x2=\"400\" y2=\"250\" stroke-linecap=\"round\" style=\"stroke:red;stroke-width:4\"/><line x1=\"400\" y1=\"250\" x2=\"669\" y2=\"490\" stroke-linecap=\"round\" style=\"stroke:gray;stroke-width:4\"/><line x1=\"669\" y1=\"490\" x2=\"400\" y2=\"250\" stroke-linecap=\"round\" style=\"stroke:gray;stroke-width:4\"/><line x1=\"400\" y1=\"250\" x2=\"294\" y2=\"288\" stroke-linecap=\"round\" style=\"stroke:gray;stroke-width:4\"/><line x1=\"294\" y1=\"288\" x2=\"400\" y2=\"250\" stroke-linecap=\"round\" style=\"stroke:gray;stroke-width:4\"/><line x1=\"400\" y1=\"250\" x2=\"676\" y2=\"354\" stroke-linecap=\"round\" style=\"stroke:green;stroke-width:4\"/><line x1=\"676\" y1=\"354\" x2=\"400\" y2=\"250\" stroke-linecap=\"round\" style=\"stroke:green;stroke-width:4\"/><line x1=\"400\" y1=\"250\" x2=\"725\" y2=\"164\" stroke-linecap=\"round\" style=\"stroke:yellow;stroke-width:4\"/><line x1=\"725\" y1=\"164\" x2=\"400\" y2=\"250\" stroke-linecap=\"round\" style=\"stroke:yellow;stroke-width:4\"/><line x1=\"400\" y1=\"250\" x2=\"65\" y2=\"319\" stroke-linecap=\"round\" style=\"stroke:yellow;stroke-width:4\"/><line x1=\"65\" y1=\"319\" x2=\"400\" y2=\"250\" stroke-linecap=\"round\" style=\"stroke:yellow;stroke-width:4\"/><line x1=\"400\" y1=\"250\" x2=\"534\" y2=\"322\" stroke-linecap=\"round\" style=\"stroke:blue;stroke-width:4\"/><line x1=\"534\" y1=\"322\" x2=\"400\" y2=\"250\" stroke-linecap=\"round\" style=\"stroke:blue;stroke-width:4\"/><line x1=\"400\" y1=\"250\" x2=\"280\" y2=\"405\" stroke-linecap=\"round\" style=\"stroke:gray;stroke-width:4\"/><line x1=\"280\" y1=\"405\" x2=\"400\" y2=\"250\" stroke-linecap=\"round\" style=\"stroke:gray;stroke-width:4\"/><line x1=\"400\" y1=\"250\" x2=\"179\" y2=\"333\" stroke-linecap=\"round\" style=\"stroke:red;stroke-width:4\"/><line x1=\"179\" y1=\"333\" x2=\"400\" y2=\"250\" stroke-linecap=\"round\" style=\"stroke:red;stroke-width:4\"/><line x1=\"400\" y1=\"250\" x2=\"691\" y2=\"198\" stroke-linecap=\"round\" style=\"stroke:green;stroke-width:4\"/><line x1=\"691\" y1=\"198\" x2=\"400\" y2=\"250\" stroke-linecap=\"round\" style=\"stroke:green;stroke-width:4\"/><line x1=\"400\" y1=\"250\" x2=\"2\" y2=\"302\" stroke-linecap=\"round\" style=\"stroke:blue;stroke-width:4\"/><line x1=\"2\" y1=\"302\" x2=\"400\" y2=\"250\" stroke-linecap=\"round\" style=\"stroke:blue;stroke-width:4\"/><line x1=\"400\" y1=\"250\" x2=\"468\" y2=\"494\" stroke-linecap=\"round\" style=\"stroke:green;stroke-width:4\"/><line x1=\"468\" y1=\"494\" x2=\"400\" y2=\"250\" stroke-linecap=\"round\" style=\"stroke:green;stroke-width:4\"/><line x1=\"400\" y1=\"250\" x2=\"541\" y2=\"145\" stroke-linecap=\"round\" style=\"stroke:yellow;stroke-width:4\"/><line x1=\"541\" y1=\"145\" x2=\"400\" y2=\"250\" stroke-linecap=\"round\" style=\"stroke:yellow;stroke-width:4\"/><line x1=\"400\" y1=\"250\" x2=\"159\" y2=\"459\" stroke-linecap=\"round\" style=\"stroke:gray;stroke-width:4\"/><line x1=\"159\" y1=\"459\" x2=\"400\" y2=\"250\" stroke-linecap=\"round\" style=\"stroke:gray;stroke-width:4\"/><line x1=\"400\" y1=\"250\" x2=\"748\" y2=\"440\" stroke-linecap=\"round\" style=\"stroke:red;stroke-width:4\"/><line x1=\"748\" y1=\"440\" x2=\"400\" y2=\"250\" stroke-linecap=\"round\" style=\"stroke:red;stroke-width:4\"/><line x1=\"400\" y1=\"250\" x2=\"319\" y2=\"104\" stroke-linecap=\"round\" style=\"stroke:yellow;stroke-width:4\"/><line x1=\"319\" y1=\"104\" x2=\"400\" y2=\"250\" stroke-linecap=\"round\" style=\"stroke:yellow;stroke-width:4\"/><line x1=\"400\" y1=\"250\" x2=\"183\" y2=\"285\" stroke-linecap=\"round\" style=\"stroke:red;stroke-width:4\"/><line x1=\"183\" y1=\"285\" x2=\"400\" y2=\"250\" stroke-linecap=\"round\" style=\"stroke:red;stroke-width:4\"/><line x1=\"400\" y1=\"250\" x2=\"721\" y2=\"223\" stroke-linecap=\"round\" style=\"stroke:red;stroke-width:4\"/><line x1=\"721\" y1=\"223\" x2=\"400\" y2=\"250\" stroke-linecap=\"round\" style=\"stroke:red;stroke-width:4\"/><line x1=\"400\" y1=\"250\" x2=\"68\" y2=\"148\" stroke-linecap=\"round\" style=\"stroke:blue;stroke-width:4\"/><line x1=\"68\" y1=\"148\" x2=\"400\" y2=\"250\" stroke-linecap=\"round\" style=\"stroke:blue;stroke-width:4\"/><line x1=\"400\" y1=\"250\" x2=\"675\" y2=\"293\" stroke-linecap=\"round\" style=\"stroke:blue;stroke-width:4\"/><line x1=\"675\" y1=\"293\" x2=\"400\" y2=\"250\" stroke-linecap=\"round\" style=\"stroke:blue;stroke-width:4\"/><line x1=\"400\" y1=\"250\" x2=\"38\" y2=\"272\" stroke-linecap=\"round\" style=\"stroke:blue;stroke-width:4\"/><line x1=\"38\" y1=\"272\" x2=\"400\" y2=\"250\" stroke-linecap=\"round\" style=\"stroke:blue;stroke-width:4\"/><line x1=\"400\" y1=\"250\" x2=\"201\" y2=\"219\" stroke-linecap=\"round\" style=\"stroke:red;stroke-width:4\"/><line x1=\"201\" y1=\"219\" x2=\"400\" y2=\"250\" stroke-linecap=\"round\" style=\"stroke:red;stroke-width:4\"/><line x1=\"400\" y1=\"250\" x2=\"262\" y2=\"366\" stroke-linecap=\"round\" style=\"stroke:yellow;stroke-width:4\"/><line x1=\"262\" y1=\"366\" x2=\"400\" y2=\"250\" stroke-linecap=\"round\" style=\"stroke:yellow;stroke-width:4\"/><line x1=\"400\" y1=\"250\" x2=\"259\" y2=\"465\" stroke-linecap=\"round\" style=\"stroke:blue;stroke-width:4\"/><line x1=\"259\" y1=\"465\" x2=\"400\" y2=\"250\" stroke-linecap=\"round\" style=\"stroke:blue;stroke-width:4\"/><line x1=\"400\" y1=\"250\" x2=\"199\" y2=\"195\" stroke-linecap=\"round\" style=\"stroke:red;stroke-width:4\"/><line x1=\"199\" y1=\"195\" x2=\"400\" y2=\"250\" stroke-linecap=\"round\" style=\"stroke:red;stroke-width:4\"/><line x1=\"400\" y1=\"250\" x2=\"54\" y2=\"17\" stroke-linecap=\"round\" style=\"stroke:blue;stroke-width:4\"/><line x1=\"54\" y1=\"17\" x2=\"400\" y2=\"250\" stroke-linecap=\"round\" style=\"stroke:blue;stroke-width:4\"/><line x1=\"400\" y1=\"250\" x2=\"457\" y2=\"199\" stroke-linecap=\"round\" style=\"stroke:red;stroke-width:4\"/><line x1=\"457\" y1=\"199\" x2=\"400\" y2=\"250\" stroke-linecap=\"round\" style=\"stroke:red;stroke-width:4\"/><line x1=\"400\" y1=\"250\" x2=\"269\" y2=\"315\" stroke-linecap=\"round\" style=\"stroke:yellow;stroke-width:4\"/><line x1=\"269\" y1=\"315\" x2=\"400\" y2=\"250\" stroke-linecap=\"round\" style=\"stroke:yellow;stroke-width:4\"/><line x1=\"400\" y1=\"250\" x2=\"689\" y2=\"179\" stroke-linecap=\"round\" style=\"stroke:yellow;stroke-width:4\"/><line x1=\"689\" y1=\"179\" x2=\"400\" y2=\"250\" stroke-linecap=\"round\" style=\"stroke:yellow;stroke-width:4\"/><line x1=\"400\" y1=\"250\" x2=\"525\" y2=\"480\" stroke-linecap=\"round\" style=\"stroke:gray;stroke-width:4\"/><line x1=\"525\" y1=\"480\" x2=\"400\" y2=\"250\" stroke-linecap=\"round\" style=\"stroke:gray;stroke-width:4\"/><line x1=\"400\" y1=\"250\" x2=\"423\" y2=\"345\" stroke-linecap=\"round\" style=\"stroke:blue;stroke-width:4\"/><line x1=\"423\" y1=\"345\" x2=\"400\" y2=\"250\" stroke-linecap=\"round\" style=\"stroke:blue;stroke-width:4\"/><line x1=\"400\" y1=\"250\" x2=\"257\" y2=\"495\" stroke-linecap=\"round\" style=\"stroke:gray;stroke-width:4\"/><line x1=\"257\" y1=\"495\" x2=\"400\" y2=\"250\" stroke-linecap=\"round\" style=\"stroke:gray;stroke-width:4\"/><line x1=\"400\" y1=\"250\" x2=\"405\" y2=\"337\" stroke-linecap=\"round\" style=\"stroke:blue;stroke-width:4\"/><line x1=\"405\" y1=\"337\" x2=\"400\" y2=\"250\" stroke-linecap=\"round\" style=\"stroke:blue;stroke-width:4\"/><line x1=\"400\" y1=\"250\" x2=\"71\" y2=\"46\" stroke-linecap=\"round\" style=\"stroke:green;stroke-width:4\"/><line x1=\"71\" y1=\"46\" x2=\"400\" y2=\"250\" stroke-linecap=\"round\" style=\"stroke:green;stroke-width:4\"/><line x1=\"400\" y1=\"250\" x2=\"670\" y2=\"313\" stroke-linecap=\"round\" style=\"stroke:blue;stroke-width:4\"/><line x1=\"670\" y1=\"313\" x2=\"400\" y2=\"250\" stroke-linecap=\"round\" style=\"stroke:blue;stroke-width:4\"/><line x1=\"400\" y1=\"250\" x2=\"37\" y2=\"145\" stroke-linecap=\"round\" style=\"stroke:yellow;stroke-width:4\"/><line x1=\"37\" y1=\"145\" x2=\"400\" y2=\"250\" stroke-linecap=\"round\" style=\"stroke:yellow;stroke-width:4\"/><line x1=\"400\" y1=\"250\" x2=\"710\" y2=\"194\" stroke-linecap=\"round\" style=\"stroke:red;stroke-width:4\"/><line x1=\"710\" y1=\"194\" x2=\"400\" y2=\"250\" stroke-linecap=\"round\" style=\"stroke:red;stroke-width:4\"/><line x1=\"400\" y1=\"250\" x2=\"332\" y2=\"234\" stroke-linecap=\"round\" style=\"stroke:blue;stroke-width:4\"/><line x1=\"332\" y1=\"234\" x2=\"400\" y2=\"250\" stroke-linecap=\"round\" style=\"stroke:blue;stroke-width:4\"/><line x1=\"400\" y1=\"250\" x2=\"310\" y2=\"26\" stroke-linecap=\"round\" style=\"stroke:blue;stroke-width:4\"/><line x1=\"310\" y1=\"26\" x2=\"400\" y2=\"250\" stroke-linecap=\"round\" style=\"stroke:blue;stroke-width:4\"/><line x1=\"400\" y1=\"250\" x2=\"251\" y2=\"36\" stroke-linecap=\"round\" style=\"stroke:gray;stroke-width:4\"/><line x1=\"251\" y1=\"36\" x2=\"400\" y2=\"250\" stroke-linecap=\"round\" style=\"stroke:gray;stroke-width:4\"/><line x1=\"400\" y1=\"250\" x2=\"1\" y2=\"213\" stroke-linecap=\"round\" style=\"stroke:gray;stroke-width:4\"/><line x1=\"1\" y1=\"213\" x2=\"400\" y2=\"250\" stroke-linecap=\"round\" style=\"stroke:gray;stroke-width:4\"/><line x1=\"400\" y1=\"250\" x2=\"505\" y2=\"302\" stroke-linecap=\"round\" style=\"stroke:yellow;stroke-width:4\"/><line x1=\"505\" y1=\"302\" x2=\"400\" y2=\"250\" stroke-linecap=\"round\" style=\"stroke:yellow;stroke-width:4\"/><line x1=\"400\" y1=\"250\" x2=\"187\" y2=\"267\" stroke-linecap=\"round\" style=\"stroke:blue;stroke-width:4\"/><line x1=\"187\" y1=\"267\" x2=\"400\" y2=\"250\" stroke-linecap=\"round\" style=\"stroke:blue;stroke-width:4\"/><line x1=\"400\" y1=\"250\" x2=\"681\" y2=\"548\" stroke-linecap=\"round\" style=\"stroke:red;stroke-width:4\"/><line x1=\"681\" y1=\"548\" x2=\"400\" y2=\"250\" stroke-linecap=\"round\" style=\"stroke:red;stroke-width:4\"/><line x1=\"400\" y1=\"250\" x2=\"446\" y2=\"242\" stroke-linecap=\"round\" style=\"stroke:blue;stroke-width:4\"/><line x1=\"446\" y1=\"242\" x2=\"400\" y2=\"250\" stroke-linecap=\"round\" style=\"stroke:blue;stroke-width:4\"/><line x1=\"400\" y1=\"250\" x2=\"737\" y2=\"197\" stroke-linecap=\"round\" style=\"stroke:gray;stroke-width:4\"/><line x1=\"737\" y1=\"197\" x2=\"400\" y2=\"250\" stroke-linecap=\"round\" style=\"stroke:gray;stroke-width:4\"/><line x1=\"400\" y1=\"250\" x2=\"139\" y2=\"462\" stroke-linecap=\"round\" style=\"stroke:yellow;stroke-width:4\"/><line x1=\"139\" y1=\"462\" x2=\"400\" y2=\"250\" stroke-linecap=\"round\" style=\"stroke:yellow;stroke-width:4\"/><line x1=\"400\" y1=\"250\" x2=\"489\" y2=\"236\" stroke-linecap=\"round\" style=\"stroke:red;stroke-width:4\"/><line x1=\"489\" y1=\"236\" x2=\"400\" y2=\"250\" stroke-linecap=\"round\" style=\"stroke:red;stroke-width:4\"/><line x1=\"400\" y1=\"250\" x2=\"615\" y2=\"325\" stroke-linecap=\"round\" style=\"stroke:gray;stroke-width:4\"/><line x1=\"615\" y1=\"325\" x2=\"400\" y2=\"250\" stroke-linecap=\"round\" style=\"stroke:gray;stroke-width:4\"/><line x1=\"400\" y1=\"250\" x2=\"666\" y2=\"460\" stroke-linecap=\"round\" style=\"stroke:blue;stroke-width:4\"/><line x1=\"666\" y1=\"460\" x2=\"400\" y2=\"250\" stroke-linecap=\"round\" style=\"stroke:blue;stroke-width:4\"/><line x1=\"400\" y1=\"250\" x2=\"8\" y2=\"219\" stroke-linecap=\"round\" style=\"stroke:yellow;stroke-width:4\"/><line x1=\"8\" y1=\"219\" x2=\"400\" y2=\"250\" stroke-linecap=\"round\" style=\"stroke:yellow;stroke-width:4\"/><line x1=\"400\" y1=\"250\" x2=\"512\" y2=\"327\" stroke-linecap=\"round\" style=\"stroke:blue;stroke-width:4\"/><line x1=\"512\" y1=\"327\" x2=\"400\" y2=\"250\" stroke-linecap=\"round\" style=\"stroke:blue;stroke-width:4\"/><line x1=\"400\" y1=\"250\" x2=\"452\" y2=\"220\" stroke-linecap=\"round\" style=\"stroke:yellow;stroke-width:4\"/><line x1=\"452\" y1=\"220\" x2=\"400\" y2=\"250\" stroke-linecap=\"round\" style=\"stroke:yellow;stroke-width:4\"/><line x1=\"400\" y1=\"250\" x2=\"663\" y2=\"466\" stroke-linecap=\"round\" style=\"stroke:gray;stroke-width:4\"/><line x1=\"663\" y1=\"466\" x2=\"400\" y2=\"250\" stroke-linecap=\"round\" style=\"stroke:gray;stroke-width:4\"/><line x1=\"400\" y1=\"250\" x2=\"590\" y2=\"355\" stroke-linecap=\"round\" style=\"stroke:blue;stroke-width:4\"/><line x1=\"590\" y1=\"355\" x2=\"400\" y2=\"250\" stroke-linecap=\"round\" style=\"stroke:blue;stroke-width:4\"/><line x1=\"400\" y1=\"250\" x2=\"526\" y2=\"8\" stroke-linecap=\"round\" style=\"stroke:blue;stroke-width:4\"/><line x1=\"526\" y1=\"8\" x2=\"400\" y2=\"250\" stroke-linecap=\"round\" style=\"stroke:blue;stroke-width:4\"/><line x1=\"400\" y1=\"250\" x2=\"727\" y2=\"25\" stroke-linecap=\"round\" style=\"stroke:gray;stroke-width:4\"/><line x1=\"727\" y1=\"25\" x2=\"400\" y2=\"250\" stroke-linecap=\"round\" style=\"stroke:gray;stroke-width:4\"/><line x1=\"400\" y1=\"250\" x2=\"561\" y2=\"216\" stroke-linecap=\"round\" style=\"stroke:blue;stroke-width:4\"/><line x1=\"561\" y1=\"216\" x2=\"400\" y2=\"250\" stroke-linecap=\"round\" style=\"stroke:blue;stroke-width:4\"/><line x1=\"400\" y1=\"250\" x2=\"532\" y2=\"339\" stroke-linecap=\"round\" style=\"stroke:gray;stroke-width:4\"/><line x1=\"532\" y1=\"339\" x2=\"400\" y2=\"250\" stroke-linecap=\"round\" style=\"stroke:gray;stroke-width:4\"/><line x1=\"400\" y1=\"250\" x2=\"243\" y2=\"414\" stroke-linecap=\"round\" style=\"stroke:red;stroke-width:4\"/><line x1=\"243\" y1=\"414\" x2=\"400\" y2=\"250\" stroke-linecap=\"round\" style=\"stroke:red;stroke-width:4\"/><line x1=\"400\" y1=\"250\" x2=\"721\" y2=\"308\" stroke-linecap=\"round\" style=\"stroke:red;stroke-width:4\"/><line x1=\"721\" y1=\"308\" x2=\"400\" y2=\"250\" stroke-linecap=\"round\" style=\"stroke:red;stroke-width:4\"/><line x1=\"400\" y1=\"250\" x2=\"90\" y2=\"304\" stroke-linecap=\"round\" style=\"stroke:yellow;stroke-width:4\"/><line x1=\"90\" y1=\"304\" x2=\"400\" y2=\"250\" stroke-linecap=\"round\" style=\"stroke:yellow;stroke-width:4\"/><line x1=\"400\" y1=\"250\" x2=\"693\" y2=\"209\" stroke-linecap=\"round\" style=\"stroke:gray;stroke-width:4\"/><line x1=\"693\" y1=\"209\" x2=\"400\" y2=\"250\" stroke-linecap=\"round\" style=\"stroke:gray;stroke-width:4\"/><line x1=\"400\" y1=\"250\" x2=\"663\" y2=\"266\" stroke-linecap=\"round\" style=\"stroke:green;stroke-width:4\"/><line x1=\"663\" y1=\"266\" x2=\"400\" y2=\"250\" stroke-linecap=\"round\" style=\"stroke:green;stroke-width:4\"/><line x1=\"400\" y1=\"250\" x2=\"255\" y2=\"374\" stroke-linecap=\"round\" style=\"stroke:red;stroke-width:4\"/><line x1=\"255\" y1=\"374\" x2=\"400\" y2=\"250\" stroke-linecap=\"round\" style=\"stroke:red;stroke-width:4\"/><line x1=\"400\" y1=\"250\" x2=\"301\" y2=\"21\" stroke-linecap=\"round\" style=\"stroke:yellow;stroke-width:4\"/><line x1=\"301\" y1=\"21\" x2=\"400\" y2=\"250\" stroke-linecap=\"round\" style=\"stroke:yellow;stroke-width:4\"/><line x1=\"400\" y1=\"250\" x2=\"367\" y2=\"356\" stroke-linecap=\"round\" style=\"stroke:gray;stroke-width:4\"/><line x1=\"367\" y1=\"356\" x2=\"400\" y2=\"250\" stroke-linecap=\"round\" style=\"stroke:gray;stroke-width:4\"/><line x1=\"400\" y1=\"250\" x2=\"353\" y2=\"234\" stroke-linecap=\"round\" style=\"stroke:green;stroke-width:4\"/><line x1=\"353\" y1=\"234\" x2=\"400\" y2=\"250\" stroke-linecap=\"round\" style=\"stroke:green;stroke-width:4\"/><line x1=\"400\" y1=\"250\" x2=\"678\" y2=\"467\" stroke-linecap=\"round\" style=\"stroke:yellow;stroke-width:4\"/><line x1=\"678\" y1=\"467\" x2=\"400\" y2=\"250\" stroke-linecap=\"round\" style=\"stroke:yellow;stroke-width:4\"/><line x1=\"400\" y1=\"250\" x2=\"397\" y2=\"18\" stroke-linecap=\"round\" style=\"stroke:gray;stroke-width:4\"/><line x1=\"397\" y1=\"18\" x2=\"400\" y2=\"250\" stroke-linecap=\"round\" style=\"stroke:gray;stroke-width:4\"/><line x1=\"400\" y1=\"250\" x2=\"239\" y2=\"20\" stroke-linecap=\"round\" style=\"stroke:green;stroke-width:4\"/><line x1=\"239\" y1=\"20\" x2=\"400\" y2=\"250\" stroke-linecap=\"round\" style=\"stroke:green;stroke-width:4\"/><line x1=\"400\" y1=\"250\" x2=\"626\" y2=\"447\" stroke-linecap=\"round\" style=\"stroke:green;stroke-width:4\"/><line x1=\"626\" y1=\"447\" x2=\"400\" y2=\"250\" stroke-linecap=\"round\" style=\"stroke:green;stroke-width:4\"/><line x1=\"400\" y1=\"250\" x2=\"478\" y2=\"9\" stroke-linecap=\"round\" style=\"stroke:blue;stroke-width:4\"/><line x1=\"478\" y1=\"9\" x2=\"400\" y2=\"250\" stroke-linecap=\"round\" style=\"stroke:blue;stroke-width:4\"/><line x1=\"400\" y1=\"250\" x2=\"392\" y2=\"370\" stroke-linecap=\"round\" style=\"stroke:green;stroke-width:4\"/><line x1=\"392\" y1=\"370\" x2=\"400\" y2=\"250\" stroke-linecap=\"round\" style=\"stroke:green;stroke-width:4\"/><line x1=\"400\" y1=\"250\" x2=\"388\" y2=\"280\" stroke-linecap=\"round\" style=\"stroke:yellow;stroke-width:4\"/><line x1=\"388\" y1=\"280\" x2=\"400\" y2=\"250\" stroke-linecap=\"round\" style=\"stroke:yellow;stroke-width:4\"/><line x1=\"400\" y1=\"250\" x2=\"591\" y2=\"356\" stroke-linecap=\"round\" style=\"stroke:yellow;stroke-width:4\"/><line x1=\"591\" y1=\"356\" x2=\"400\" y2=\"250\" stroke-linecap=\"round\" style=\"stroke:yellow;stroke-width:4\"/><line x1=\"400\" y1=\"250\" x2=\"664\" y2=\"377\" stroke-linecap=\"round\" style=\"stroke:gray;stroke-width:4\"/><line x1=\"664\" y1=\"377\" x2=\"400\" y2=\"250\" stroke-linecap=\"round\" style=\"stroke:gray;stroke-width:4\"/><line x1=\"400\" y1=\"250\" x2=\"563\" y2=\"356\" stroke-linecap=\"round\" style=\"stroke:yellow;stroke-width:4\"/><line x1=\"563\" y1=\"356\" x2=\"400\" y2=\"250\" stroke-linecap=\"round\" style=\"stroke:yellow;stroke-width:4\"/><line x1=\"400\" y1=\"250\" x2=\"678\" y2=\"445\" stroke-linecap=\"round\" style=\"stroke:yellow;stroke-width:4\"/><line x1=\"678\" y1=\"445\" x2=\"400\" y2=\"250\" stroke-linecap=\"round\" style=\"stroke:yellow;stroke-width:4\"/><line x1=\"400\" y1=\"250\" x2=\"169\" y2=\"74\" stroke-linecap=\"round\" style=\"stroke:red;stroke-width:4\"/><line x1=\"169\" y1=\"74\" x2=\"400\" y2=\"250\" stroke-linecap=\"round\" style=\"stroke:red;stroke-width:4\"/><line x1=\"400\" y1=\"250\" x2=\"645\" y2=\"509\" stroke-linecap=\"round\" style=\"stroke:yellow;stroke-width:4\"/><line x1=\"645\" y1=\"509\" x2=\"400\" y2=\"250\" stroke-linecap=\"round\" style=\"stroke:yellow;stroke-width:4\"/><line x1=\"400\" y1=\"250\" x2=\"745\" y2=\"431\" stroke-linecap=\"round\" style=\"stroke:yellow;stroke-width:4\"/><line x1=\"745\" y1=\"431\" x2=\"400\" y2=\"250\" stroke-linecap=\"round\" style=\"stroke:yellow;stroke-width:4\"/><line x1=\"400\" y1=\"250\" x2=\"95\" y2=\"153\" stroke-linecap=\"round\" style=\"stroke:red;stroke-width:4\"/><line x1=\"95\" y1=\"153\" x2=\"400\" y2=\"250\" stroke-linecap=\"round\" style=\"stroke:red;stroke-width:4\"/><line x1=\"400\" y1=\"250\" x2=\"490\" y2=\"319\" stroke-linecap=\"round\" style=\"stroke:green;stroke-width:4\"/><line x1=\"490\" y1=\"319\" x2=\"400\" y2=\"250\" stroke-linecap=\"round\" style=\"stroke:green;stroke-width:4\"/><line x1=\"400\" y1=\"250\" x2=\"36\" y2=\"64\" stroke-linecap=\"round\" style=\"stroke:blue;stroke-width:4\"/><line x1=\"36\" y1=\"64\" x2=\"400\" y2=\"250\" stroke-linecap=\"round\" style=\"stroke:blue;stroke-width:4\"/><line x1=\"400\" y1=\"250\" x2=\"678\" y2=\"469\" stroke-linecap=\"round\" style=\"stroke:red;stroke-width:4\"/><line x1=\"678\" y1=\"469\" x2=\"400\" y2=\"250\" stroke-linecap=\"round\" style=\"stroke:red;stroke-width:4\"/><line x1=\"400\" y1=\"250\" x2=\"445\" y2=\"258\" stroke-linecap=\"round\" style=\"stroke:gray;stroke-width:4\"/><line x1=\"445\" y1=\"258\" x2=\"400\" y2=\"250\" stroke-linecap=\"round\" style=\"stroke:gray;stroke-width:4\"/><line x1=\"400\" y1=\"250\" x2=\"515\" y2=\"250\" stroke-linecap=\"round\" style=\"stroke:yellow;stroke-width:4\"/><line x1=\"515\" y1=\"250\" x2=\"400\" y2=\"250\" stroke-linecap=\"round\" style=\"stroke:yellow;stroke-width:4\"/><line x1=\"400\" y1=\"250\" x2=\"92\" y2=\"238\" stroke-linecap=\"round\" style=\"stroke:green;stroke-width:4\"/><line x1=\"92\" y1=\"238\" x2=\"400\" y2=\"250\" stroke-linecap=\"round\" style=\"stroke:green;stroke-width:4\"/><line x1=\"400\" y1=\"250\" x2=\"205\" y2=\"7\" stroke-linecap=\"round\" style=\"stroke:blue;stroke-width:4\"/><line x1=\"205\" y1=\"7\" x2=\"400\" y2=\"250\" stroke-linecap=\"round\" style=\"stroke:blue;stroke-width:4\"/><line x1=\"400\" y1=\"250\" x2=\"726\" y2=\"436\" stroke-linecap=\"round\" style=\"stroke:gray;stroke-width:4\"/><line x1=\"726\" y1=\"436\" x2=\"400\" y2=\"250\" stroke-linecap=\"round\" style=\"stroke:gray;stroke-width:4\"/><line x1=\"400\" y1=\"250\" x2=\"319\" y2=\"485\" stroke-linecap=\"round\" style=\"stroke:yellow;stroke-width:4\"/><line x1=\"319\" y1=\"485\" x2=\"400\" y2=\"250\" stroke-linecap=\"round\" style=\"stroke:yellow;stroke-width:4\"/>\n",
              "        <g visibility=visible transform=\"rotate(360,400,250) translate(382, 232)\">\n",
              "<path style=\" stroke:none;fill-rule:evenodd;fill:yellow;fill-opacity:1;\" d=\"M 18.214844 0.632812 C 16.109375 1.800781 15.011719 4.074219 15.074219 7.132812 L 15.085938 7.652344 L 14.785156 7.496094 C 13.476562 6.824219 11.957031 6.671875 10.40625 7.066406 C 8.46875 7.550781 6.515625 9.15625 4.394531 11.992188 C 3.0625 13.777344 2.679688 14.636719 3.042969 15.027344 L 3.15625 15.152344 L 3.519531 15.152344 C 4.238281 15.152344 4.828125 14.886719 8.1875 13.039062 C 9.386719 12.378906 10.371094 11.839844 10.378906 11.839844 C 10.386719 11.839844 10.355469 11.929688 10.304688 12.035156 C 9.832031 13.09375 9.257812 14.820312 8.96875 16.078125 C 7.914062 20.652344 8.617188 24.53125 11.070312 27.660156 C 11.351562 28.015625 11.363281 27.914062 10.972656 28.382812 C 8.925781 30.84375 7.945312 33.28125 8.238281 35.1875 C 8.289062 35.527344 8.28125 35.523438 8.917969 35.523438 C 10.941406 35.523438 13.074219 34.207031 15.136719 31.6875 C 15.359375 31.417969 15.328125 31.425781 15.5625 31.574219 C 16.292969 32.042969 18.023438 32.964844 18.175781 32.964844 C 18.335938 32.964844 19.941406 32.210938 20.828125 31.71875 C 20.996094 31.625 21.136719 31.554688 21.136719 31.558594 C 21.203125 31.664062 21.898438 32.414062 22.222656 32.730469 C 23.835938 34.300781 25.5625 35.132812 27.582031 35.300781 C 27.90625 35.328125 27.9375 35.308594 28.007812 34.984375 C 28.382812 33.242188 27.625 30.925781 25.863281 28.425781 L 25.542969 27.96875 L 25.699219 27.785156 C 28.945312 23.960938 29.132812 18.699219 26.257812 11.96875 L 26.207031 11.84375 L 27.945312 12.703125 C 31.53125 14.476562 32.316406 14.800781 33.03125 14.800781 C 33.976562 14.800781 33.78125 13.9375 32.472656 12.292969 C 28.519531 7.355469 25.394531 5.925781 21.921875 7.472656 L 21.558594 7.636719 L 21.578125 7.542969 C 21.699219 6.992188 21.761719 5.742188 21.699219 5.164062 C 21.496094 3.296875 20.664062 1.964844 19.003906 0.855469 C 18.480469 0.503906 18.457031 0.5 18.214844 0.632812\"/>\n",
              "</g>\n",
              "      </svg>\n",
              "    "
            ]
          },
          "metadata": {}
        }
      ]
    }
  ]
}