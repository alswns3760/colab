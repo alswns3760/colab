{
  "nbformat": 4,
  "nbformat_minor": 0,
  "metadata": {
    "colab": {
      "provenance": [],
      "authorship_tag": "ABX9TyMGDF2GuiFHrrh5nNZeDwzb",
      "include_colab_link": true
    },
    "kernelspec": {
      "name": "python3",
      "display_name": "Python 3"
    },
    "language_info": {
      "name": "python"
    }
  },
  "cells": [
    {
      "cell_type": "markdown",
      "metadata": {
        "id": "view-in-github",
        "colab_type": "text"
      },
      "source": [
        "<a href=\"https://colab.research.google.com/github/alswns3760/colab/blob/main/Lession_7.ipynb\" target=\"_parent\"><img src=\"https://colab.research.google.com/assets/colab-badge.svg\" alt=\"Open In Colab\"/></a>"
      ]
    },
    {
      "cell_type": "code",
      "execution_count": 2,
      "metadata": {
        "colab": {
          "base_uri": "https://localhost:8080/"
        },
        "id": "8dTbRHsxw8Zd",
        "outputId": "c7bfe70e-e244-4673-b9df-0258439f9ffa"
      },
      "outputs": [
        {
          "output_type": "stream",
          "name": "stdout",
          "text": [
            "오늘의 명언 ==> 길이 없으면 길을 찾아라. 찾아도 없으면 길을 닦아 나가야한다.\n"
          ]
        }
      ],
      "source": [
        "import random\n",
        "\n",
        "wiseSay = [\"미래 계획하고 준비하는 자에게 복이 함께 할 지어다.\",\n",
        "           \"작은 성공부터 시작하라.성공에 익숙해지면 무슨목표든지 할 수 있다는 자신감이 생긴다.\",\n",
        "           \"팀워크의 좋은 점은 항상 지원해줄 사람들이 있다는 것이다.\",\n",
        "           \"길이 없으면 길을 찾아라. 찾아도 없으면 길을 닦아 나가야한다.\",\n",
        "           \"사람은 누구나 자기가 할 수있다고 생각하는것 이상의 것을 할 수 있습니다.\",\n",
        "           \"허들을 넘듯 도전 과제들이 계속 등장 하는게 삶이다.\",\n",
        "           \"신뢰와 존경은 믿음직스럽게 행동할 때 생겨난다.\"]\n",
        "today = random.randint(0, len(wiseSay)-1)\n",
        "print(\"오늘의 명언 ==>\", wiseSay[today])"
      ]
    },
    {
      "cell_type": "code",
      "source": [
        "numlist2 = [[1,2,3,4],\n",
        "            [5,6,7,8],\n",
        "            [9,10,11,12]]\n",
        "\n",
        "for i in range(0,3) :\n",
        "  for k in range(0,4) :\n",
        "    print(\" \", numlist2[i][k], end='')\n",
        "  print(\"\")"
      ],
      "metadata": {
        "colab": {
          "base_uri": "https://localhost:8080/"
        },
        "id": "3zoTO-Zf6w9H",
        "outputId": "2510cd00-2312-4db4-c37d-d64c43c7a708"
      },
      "execution_count": 3,
      "outputs": [
        {
          "output_type": "stream",
          "name": "stdout",
          "text": [
            "  1  2  3  4\n",
            "  5  6  7  8\n",
            "  9  10  11  12\n"
          ]
        }
      ]
    },
    {
      "cell_type": "code",
      "source": [
        "print(\"홍길동 선수 경기가 끝났습니다~~ 짝짝짝\")\n",
        "\n",
        "score = []\n",
        "for i in range(5) :\n",
        "  jumsu = int(input(\"평균 점수 ==>\"))\n",
        "  score.append(jumsu)\n",
        "\n",
        "hap = 0\n",
        "for i in range(5) :\n",
        "  hap += score[i]\n",
        "\n",
        "avg = hap / 5\n",
        "print(\"심사위원 평균 점수 : \",avg)"
      ],
      "metadata": {
        "colab": {
          "base_uri": "https://localhost:8080/"
        },
        "id": "Mvn2GSnf8s0e",
        "outputId": "05c12751-cf4c-4f94-945c-1990c7b7fef2"
      },
      "execution_count": 4,
      "outputs": [
        {
          "output_type": "stream",
          "name": "stdout",
          "text": [
            "홍길동 선수 경기가 끝났습니다~~ 짝짝짝\n",
            "평균 점수 ==>10\n",
            "평균 점수 ==>6\n",
            "평균 점수 ==>2\n",
            "평균 점수 ==>9\n",
            "평균 점수 ==>7\n",
            "심사위원 평균 점수 :  6.8\n"
          ]
        }
      ]
    },
    {
      "cell_type": "code",
      "source": [
        "toss = []\n",
        "for i in range(10000) :\n",
        "  comA = random.choice([\"가위\",\"바위\",\"보\"])\n",
        "  comB = random.choice([\"가위\",\"바위\",\"보\"])\n",
        "  if (comA == comB) :\n",
        "    toss.append(\"비김\")\n",
        "  elif (comA == \"가위\") and (comB == \"보\") or \\\n",
        "       (comA == \"바위\") and (comB == \"가위\") or \\\n",
        "       (comA == \"보\") and (comB ==\"바위\") :\n",
        "       toss.append(\"A\")\n",
        "  else :\n",
        "       toss.append(\"B\")\n",
        "  #print(comA, comB, toss[i])\n",
        "\n",
        "aWin = toss.count(\"A\")\n",
        "bwin = toss.count(\"B\")"
      ],
      "metadata": {
        "id": "lt_7_2Nr_CE-"
      },
      "execution_count": 12,
      "outputs": []
    },
    {
      "cell_type": "code",
      "source": [
        "singer = {}\n",
        "singer ['이름'] = '트와이스'\n",
        "singer ['구성원수'] = 9\n",
        "singer ['데뷰'] = '서바이벌 식스틴'\n",
        "singer ['대표곡'] = 'CRY FOR ME'\n",
        "\n",
        "for k in singer .keys() :\n",
        "  print(k, \"==>\", singer[k])\n",
        "\n"
      ],
      "metadata": {
        "colab": {
          "base_uri": "https://localhost:8080/"
        },
        "id": "GLaLZf7QNLv2",
        "outputId": "630790fb-507c-4aaf-e3d4-f08d14971b0d"
      },
      "execution_count": 14,
      "outputs": [
        {
          "output_type": "stream",
          "name": "stdout",
          "text": [
            "이름 ==> 트와이스\n",
            "구성원수 ==> 9\n",
            "데뷰 ==> 서바이벌 식스틴\n",
            "대표곡 ==> CRY FOR ME\n"
          ]
        }
      ]
    }
  ]
}