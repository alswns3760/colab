{
  "nbformat": 4,
  "nbformat_minor": 0,
  "metadata": {
    "colab": {
      "provenance": [],
      "authorship_tag": "ABX9TyMU5xYKP9wm+b4QUsw05hV+",
      "include_colab_link": true
    },
    "kernelspec": {
      "name": "python3",
      "display_name": "Python 3"
    },
    "language_info": {
      "name": "python"
    }
  },
  "cells": [
    {
      "cell_type": "markdown",
      "metadata": {
        "id": "view-in-github",
        "colab_type": "text"
      },
      "source": [
        "<a href=\"https://colab.research.google.com/github/alswns3760/colab/blob/main/Lession6.ipynb\" target=\"_parent\"><img src=\"https://colab.research.google.com/assets/colab-badge.svg\" alt=\"Open In Colab\"/></a>"
      ]
    },
    {
      "cell_type": "markdown",
      "source": [
        "6장 예제"
      ],
      "metadata": {
        "id": "mia9fjJHvEpt"
      }
    },
    {
      "cell_type": "code",
      "execution_count": 1,
      "metadata": {
        "colab": {
          "base_uri": "https://localhost:8080/"
        },
        "id": "Y7AywsKkvBDU",
        "outputId": "b8a67507-6349-4229-ed6c-d3400647cdd7"
      },
      "outputs": [
        {
          "output_type": "stream",
          "name": "stdout",
          "text": [
            "난생처음 파이썬은 재미있습니다. ^^\n",
            "난생처음 파이썬은 재미있습니다. ^^\n",
            "난생처음 파이썬은 재미있습니다. ^^\n"
          ]
        }
      ],
      "source": [
        "#방법1\n",
        "print(\"난생처음 파이썬은 재미있습니다. ^^\")\n",
        "print(\"난생처음 파이썬은 재미있습니다. ^^\")\n",
        "print(\"난생처음 파이썬은 재미있습니다. ^^\")"
      ]
    },
    {
      "cell_type": "code",
      "source": [
        "#방법2\n",
        "for i in range(3) :\n",
        "  print(i,\"다 겁 즐 겁 다. ^^\")"
      ],
      "metadata": {
        "colab": {
          "base_uri": "https://localhost:8080/"
        },
        "id": "w91pkLILvYr8",
        "outputId": "6c54c363-bed3-4ce4-aaaa-7647608489af"
      },
      "execution_count": 4,
      "outputs": [
        {
          "output_type": "stream",
          "name": "stdout",
          "text": [
            "0 다 겁 즐 겁 다. ^^\n",
            "1 다 겁 즐 겁 다. ^^\n",
            "2 다 겁 즐 겁 다. ^^\n"
          ]
        }
      ]
    },
    {
      "cell_type": "code",
      "source": [
        "myList =[\"짜장면\",\"김밥\",\"라면\"]\n",
        "for i in myList :\n",
        "  print(i)"
      ],
      "metadata": {
        "colab": {
          "base_uri": "https://localhost:8080/"
        },
        "id": "00BeHB5DwM18",
        "outputId": "097e66cf-2cef-4730-92a1-54fb989d7545"
      },
      "execution_count": 6,
      "outputs": [
        {
          "output_type": "stream",
          "name": "stdout",
          "text": [
            "짜장면\n",
            "김밥\n",
            "라면\n"
          ]
        }
      ]
    },
    {
      "cell_type": "markdown",
      "source": [
        "sum = 1+3+5+7+9....+99"
      ],
      "metadata": {
        "id": "akjFGSC7xu5F"
      }
    },
    {
      "cell_type": "code",
      "source": [
        "sum =0\n",
        "for i in range(1,100,2) :\n",
        "  sum = sum + i\n",
        "print(sum)"
      ],
      "metadata": {
        "colab": {
          "base_uri": "https://localhost:8080/"
        },
        "id": "GVos-NrIwmAc",
        "outputId": "8e14aee2-ddc7-4a8e-b58d-78a5f4a6eac6"
      },
      "execution_count": 7,
      "outputs": [
        {
          "output_type": "stream",
          "name": "stdout",
          "text": [
            "2500\n"
          ]
        }
      ]
    },
    {
      "cell_type": "markdown",
      "source": [
        "sum = 1 - 3 + 5 - 7 = 9 .... + 99"
      ],
      "metadata": {
        "id": "CjQ5Vtksxzzs"
      }
    },
    {
      "cell_type": "code",
      "source": [
        "flag = 1\n",
        "sum = 0\n",
        "for i in range(1,100,2) :\n",
        "  if flag == 1 :\n",
        "    sum = sum + i \n",
        "    flag = flag * - 1\n",
        "  else:\n",
        "    sum = sum - i\n",
        "    flag = flag * - 1\n",
        "print(sum)"
      ],
      "metadata": {
        "colab": {
          "base_uri": "https://localhost:8080/"
        },
        "id": "9PCcodisx8BM",
        "outputId": "5bbf814f-615b-488e-8c8a-cbe458f9b33f"
      },
      "execution_count": 13,
      "outputs": [
        {
          "output_type": "stream",
          "name": "stdout",
          "text": [
            "-50\n"
          ]
        }
      ]
    },
    {
      "cell_type": "code",
      "source": [
        "fact = 1\n",
        "friends_num = 5 \n",
        "\n",
        "for i in range(1, friends_num +1,1):\n",
        "  fact = fact * i\n",
        "print(\"A,B,C,D,E 학생들을 순서대로 세우는 경우의 수 :\",fact)"
      ],
      "metadata": {
        "colab": {
          "base_uri": "https://localhost:8080/"
        },
        "id": "n7p66V0wz4zc",
        "outputId": "0f696a0b-2b88-4c91-f27c-d1f754287f49"
      },
      "execution_count": 16,
      "outputs": [
        {
          "output_type": "stream",
          "name": "stdout",
          "text": [
            "A,B,C,D,E 학생들을 순서대로 세우는 경우의 수 : 120\n"
          ]
        }
      ]
    },
    {
      "cell_type": "code",
      "source": [
        "hap = 0 \n",
        "for i in range(1,11,1):\n",
        "  hap = hap + i\n",
        "\n",
        "print(\"1에서부터 10까지 합 :\",hap)"
      ],
      "metadata": {
        "colab": {
          "base_uri": "https://localhost:8080/"
        },
        "id": "nfgwEN0I1prk",
        "outputId": "c1ccae1f-8b87-46fd-c9ab-2010f8e34f5d"
      },
      "execution_count": 18,
      "outputs": [
        {
          "output_type": "stream",
          "name": "stdout",
          "text": [
            "1에서부터 10까지 합 : 55\n"
          ]
        }
      ]
    },
    {
      "cell_type": "code",
      "source": [
        "i, hap =0,0\n",
        "\n",
        "for i in range(1001,2001,2):\n",
        "  hap += i\n",
        "\n",
        "print(\"1000부터 2000까지의 홀수의 합 :\",hap)"
      ],
      "metadata": {
        "colab": {
          "base_uri": "https://localhost:8080/"
        },
        "id": "0e58PqOh2UeT",
        "outputId": "ca46f12c-f8ce-4177-d18d-77364f6e0a83"
      },
      "execution_count": 19,
      "outputs": [
        {
          "output_type": "stream",
          "name": "stdout",
          "text": [
            "1000부터 2000까지의 홀수의 합 : 750000\n"
          ]
        }
      ]
    },
    {
      "cell_type": "code",
      "source": [
        "for i in range(3) :\n",
        "  for k in range(2) :\n",
        "    print(\"난생처음은 쉽습니다. ^^ (i값:\",i,\",k값:\",k,\")\")"
      ],
      "metadata": {
        "colab": {
          "base_uri": "https://localhost:8080/"
        },
        "id": "hsRe-G9x2_P5",
        "outputId": "94658a77-8011-4527-92d2-3983da62aaba"
      },
      "execution_count": 23,
      "outputs": [
        {
          "output_type": "stream",
          "name": "stdout",
          "text": [
            "난생처음은 쉽습니다. ^^ (i값: 0 ,k값: 0 )\n",
            "난생처음은 쉽습니다. ^^ (i값: 0 ,k값: 1 )\n",
            "난생처음은 쉽습니다. ^^ (i값: 1 ,k값: 0 )\n",
            "난생처음은 쉽습니다. ^^ (i값: 1 ,k값: 1 )\n",
            "난생처음은 쉽습니다. ^^ (i값: 2 ,k값: 0 )\n",
            "난생처음은 쉽습니다. ^^ (i값: 2 ,k값: 1 )\n"
          ]
        }
      ]
    },
    {
      "cell_type": "markdown",
      "source": [
        "아래꺼 다음시간에 완성시키기"
      ],
      "metadata": {
        "id": "B8kGypch4z4L"
      }
    },
    {
      "cell_type": "code",
      "source": [
        "for i in range(2) :\n",
        "  for k in rnage(10) :\n",
        "    "
      ],
      "metadata": {
        "colab": {
          "base_uri": "https://localhost:8080/",
          "height": 137
        },
        "id": "6AqZiq_y4WVl",
        "outputId": "03c990d7-4518-41dd-b07e-efb1ed2f7792"
      },
      "execution_count": 24,
      "outputs": [
        {
          "output_type": "error",
          "ename": "SyntaxError",
          "evalue": "ignored",
          "traceback": [
            "\u001b[0;36m  File \u001b[0;32m\"<ipython-input-24-e90cb7b798e8>\"\u001b[0;36m, line \u001b[0;32m2\u001b[0m\n\u001b[0;31m    for k in rnage(10) :\u001b[0m\n\u001b[0m                        ^\u001b[0m\n\u001b[0;31mSyntaxError\u001b[0m\u001b[0;31m:\u001b[0m unexpected EOF while parsing\n"
          ]
        }
      ]
    }
  ]
}