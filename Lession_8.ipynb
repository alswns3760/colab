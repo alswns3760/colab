{
  "nbformat": 4,
  "nbformat_minor": 0,
  "metadata": {
    "colab": {
      "provenance": [],
      "authorship_tag": "ABX9TyNiuCuew5lLtmRsJ8w3Xt6g",
      "include_colab_link": true
    },
    "kernelspec": {
      "name": "python3",
      "display_name": "Python 3"
    },
    "language_info": {
      "name": "python"
    }
  },
  "cells": [
    {
      "cell_type": "markdown",
      "metadata": {
        "id": "view-in-github",
        "colab_type": "text"
      },
      "source": [
        "<a href=\"https://colab.research.google.com/github/alswns3760/colab/blob/main/Lession_8.ipynb\" target=\"_parent\"><img src=\"https://colab.research.google.com/assets/colab-badge.svg\" alt=\"Open In Colab\"/></a>"
      ]
    },
    {
      "cell_type": "code",
      "execution_count": 1,
      "metadata": {
        "colab": {
          "base_uri": "https://localhost:8080/"
        },
        "id": "lQugLFd5YwkQ",
        "outputId": "2ac8e0b2-721f-4ad6-b477-e16a9e0a3f6c"
      },
      "outputs": [
        {
          "output_type": "stream",
          "name": "stdout",
          "text": [
            "100과 200의 plus()함수 결과는  300\n"
          ]
        }
      ],
      "source": [
        "def plus(v1, v2) :\n",
        "\n",
        "    result = 0\n",
        "    result = v1 + v2\n",
        "\n",
        "    return result\n",
        "\n",
        "hap = 0\n",
        "\n",
        "hap = plus(100,200)\n",
        "print(\"100과 200의 plus()함수 결과는 \",hap)"
      ]
    },
    {
      "cell_type": "code",
      "source": [
        "def calc(op, num1, num2 ) :\n",
        "  if op == \"+\":\n",
        "    return num1+num2\n",
        "  elif op == \"-\":\n",
        "    return num1+num2\n",
        "  elif op == \"*\":\n",
        "    return num1*num2\n",
        "  elif op == \"/\":\n",
        "    return num1/num2\n",
        "\n",
        "op = input(\"계산 입력 (+,-,*,/) : \")\n",
        "num1 = int(input(\"첫 번째 숫자 입력 : \"))\n",
        "num2 = int(input(\"두 번째 숫자 입력 : \"))\n",
        "\n",
        "print(\"## 계산기 : \",num1,op,num2,\"=\",calc(op,num1,num2))\n"
      ],
      "metadata": {
        "colab": {
          "base_uri": "https://localhost:8080/"
        },
        "id": "KmaqStkI6bYp",
        "outputId": "ab4ea2e3-e77a-4da0-a32c-e089fea9183b"
      },
      "execution_count": 2,
      "outputs": [
        {
          "output_type": "stream",
          "name": "stdout",
          "text": [
            "계산 입력 (+,-,*,/) : +\n",
            "첫 번째 숫자 입력 : 133\n",
            "두 번째 숫자 입력 : 44\n",
            "## 계산기 :  133 + 44 = 177\n"
          ]
        }
      ]
    },
    {
      "cell_type": "code",
      "source": [
        "import random\n",
        "\n",
        "lotto_num=[]\n",
        " \n",
        "def lotto() :\n",
        "  rnd = random.randint(1,45)\n",
        "  return rnd\n",
        "\n",
        "while True :\n",
        "  rnd = lotto()\n",
        "  if rnd in lotto_num :\n",
        "    pass\n",
        "  else :\n",
        "    lotto_num.append(lotto())\n",
        "\n",
        "  if len(lotto_num) == 6 :\n",
        "    break\n",
        "\n",
        "print(lotto_num)"
      ],
      "metadata": {
        "colab": {
          "base_uri": "https://localhost:8080/"
        },
        "id": "7r9YMhb4-WLG",
        "outputId": "eed3b242-14a9-49d5-f092-457e057a6b19"
      },
      "execution_count": 16,
      "outputs": [
        {
          "output_type": "stream",
          "name": "stdout",
          "text": [
            "[25, 28, 20, 3, 23, 27]\n"
          ]
        }
      ]
    },
    {
      "cell_type": "code",
      "source": [
        "from datetime import date\n",
        "from datetime import datetime\n",
        "from datetime import timedelta\n",
        "\n",
        "now = datetime.now()\n",
        "after = timedelta(days=100)\n",
        "\n",
        "print(\"현재 날짜와 시간 ==>\",now)\n",
        "print(\"100일 후 날짜와 시간 ==>\",now + after)"
      ],
      "metadata": {
        "colab": {
          "base_uri": "https://localhost:8080/"
        },
        "id": "H9cBesFICW34",
        "outputId": "4ee9e438-62bb-4a57-d197-fc44dd235d31"
      },
      "execution_count": 18,
      "outputs": [
        {
          "output_type": "stream",
          "name": "stdout",
          "text": [
            "현재 날짜와 시간 ==> 2022-10-07 06:19:07.821362\n",
            "100일 후 날짜와 시간 ==> 2023-01-15 06:19:07.821362\n"
          ]
        }
      ]
    },
    {
      "cell_type": "code",
      "source": [
        "from datetime import datetime\n",
        "\n",
        "now = datetime.now()\n",
        "birth = datetime(2004,5,1)\n",
        "\n",
        "food = (now - birth)\n",
        "food = str(food).split(\" \")\n",
        "food = int(food[0])\n",
        "print(\"지금까지 식비는 \", food*3*5000,\"원\")\n",
        "\n",
        "print(now - birth)\n"
      ],
      "metadata": {
        "colab": {
          "base_uri": "https://localhost:8080/"
        },
        "id": "ZVgnzRq-Icj4",
        "outputId": "760a3e8a-5453-4274-fa1f-75dec553d5be"
      },
      "execution_count": 20,
      "outputs": [
        {
          "output_type": "stream",
          "name": "stdout",
          "text": [
            "지금까지 식비는  100995000 원\n",
            "6733 days, 6:28:47.610791\n"
          ]
        }
      ]
    }
  ]
}