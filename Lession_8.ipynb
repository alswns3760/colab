{
  "nbformat": 4,
  "nbformat_minor": 0,
  "metadata": {
    "colab": {
      "provenance": [],
      "authorship_tag": "ABX9TyOhdfGG83m39y01NLK1gL2d",
      "include_colab_link": true
    },
    "kernelspec": {
      "name": "python3",
      "display_name": "Python 3"
    },
    "language_info": {
      "name": "python"
    }
  },
  "cells": [
    {
      "cell_type": "markdown",
      "metadata": {
        "id": "view-in-github",
        "colab_type": "text"
      },
      "source": [
        "<a href=\"https://colab.research.google.com/github/alswns3760/colab/blob/main/Lession_8.ipynb\" target=\"_parent\"><img src=\"https://colab.research.google.com/assets/colab-badge.svg\" alt=\"Open In Colab\"/></a>"
      ]
    },
    {
      "cell_type": "code",
      "execution_count": 1,
      "metadata": {
        "colab": {
          "base_uri": "https://localhost:8080/"
        },
        "id": "lQugLFd5YwkQ",
        "outputId": "2ac8e0b2-721f-4ad6-b477-e16a9e0a3f6c"
      },
      "outputs": [
        {
          "output_type": "stream",
          "name": "stdout",
          "text": [
            "100과 200의 plus()함수 결과는  300\n"
          ]
        }
      ],
      "source": [
        "def plus(v1, v2) :\n",
        "\n",
        "    result = 0\n",
        "    result = v1 + v2\n",
        "\n",
        "    return result\n",
        "\n",
        "hap = 0\n",
        "\n",
        "hap = plus(100,200)\n",
        "print(\"100과 200의 plus()함수 결과는 \",hap)"
      ]
    },
    {
      "cell_type": "code",
      "source": [
        "def calc(op, num1, num2 ) :\n",
        "  if op == \"+\":\n",
        "    return num1+num2\n",
        "  elif op == \"-\":\n",
        "    return num1+num2\n",
        "  elif op == \"*\":\n",
        "    return num1*num2\n",
        "  elif op == \"/\":\n",
        "    return num1/num2\n",
        "\n",
        "op = input(\"계산 입력 (+,-,*,/) : \")\n",
        "num1 = int(input(\"첫 번째 숫자 입력 : \"))\n",
        "num2 = int(input(\"두 번째 숫자 입력 : \"))\n",
        "\n",
        "print(\"## 계산기 : \",num1,op,num2,\"=\",calc(op,num1,num2))\n"
      ],
      "metadata": {
        "colab": {
          "base_uri": "https://localhost:8080/"
        },
        "id": "KmaqStkI6bYp",
        "outputId": "ab4ea2e3-e77a-4da0-a32c-e089fea9183b"
      },
      "execution_count": 2,
      "outputs": [
        {
          "output_type": "stream",
          "name": "stdout",
          "text": [
            "계산 입력 (+,-,*,/) : +\n",
            "첫 번째 숫자 입력 : 133\n",
            "두 번째 숫자 입력 : 44\n",
            "## 계산기 :  133 + 44 = 177\n"
          ]
        }
      ]
    },
    {
      "cell_type": "code",
      "source": [
        "import random\n",
        "\n",
        "lotto_num=[]\n",
        "\n",
        "def lotto() :\n",
        "  rnd = random.randint(1,45)\n",
        "  return rnd\n",
        "\n",
        "while True :\n",
        "  lotto_num.append(lotto())\n",
        "\n",
        "  if len(lotto_num) == 6 :\n",
        "    break\n",
        "\n",
        "print(lotto_num)"
      ],
      "metadata": {
        "colab": {
          "base_uri": "https://localhost:8080/"
        },
        "id": "7r9YMhb4-WLG",
        "outputId": "146760ad-57cb-457a-b411-8c4dd261c89e"
      },
      "execution_count": 14,
      "outputs": [
        {
          "output_type": "stream",
          "name": "stdout",
          "text": [
            "[11, 28, 38, 40, 7, 33]\n"
          ]
        }
      ]
    }
  ]
}