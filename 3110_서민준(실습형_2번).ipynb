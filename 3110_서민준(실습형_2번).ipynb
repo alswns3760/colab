{
  "nbformat": 4,
  "nbformat_minor": 0,
  "metadata": {
    "colab": {
      "provenance": [],
      "authorship_tag": "ABX9TyPSMM+RCNGqdgfv2P8OxYL5",
      "include_colab_link": true
    },
    "kernelspec": {
      "name": "python3",
      "display_name": "Python 3"
    },
    "language_info": {
      "name": "python"
    }
  },
  "cells": [
    {
      "cell_type": "markdown",
      "metadata": {
        "id": "view-in-github",
        "colab_type": "text"
      },
      "source": [
        "<a href=\"https://colab.research.google.com/github/alswns3760/colab/blob/main/3110_%EC%84%9C%EB%AF%BC%EC%A4%80(%EC%8B%A4%EC%8A%B5%ED%98%95_2%EB%B2%88).ipynb\" target=\"_parent\"><img src=\"https://colab.research.google.com/assets/colab-badge.svg\" alt=\"Open In Colab\"/></a>"
      ]
    },
    {
      "cell_type": "code",
      "execution_count": null,
      "metadata": {
        "colab": {
          "base_uri": "https://localhost:8080/"
        },
        "id": "b2Pg8dPizKFq",
        "outputId": "174dbe03-5b18-4e46-9c5a-4b6e6efb555f"
      },
      "outputs": [
        {
          "output_type": "stream",
          "name": "stdout",
          "text": [
            "문자를 입력 : 트와이스\n",
            "반대 문자열 : 스이와트"
          ]
        }
      ],
      "source": [
        "ss = input(\"문자를 입력 : \")\n",
        "print(\"반대 문자열 :\",end=' ')\n",
        "print(ss[3],end='')\n",
        "print(ss[2],end='')\n",
        "print(ss[1],end='')\n",
        "print(ss[0],end='')"
      ]
    }
  ]
}