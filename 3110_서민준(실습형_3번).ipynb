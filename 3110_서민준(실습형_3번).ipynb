{
  "nbformat": 4,
  "nbformat_minor": 0,
  "metadata": {
    "colab": {
      "provenance": [],
      "authorship_tag": "ABX9TyOgFPf6KYIwoJ1D4YB6wafI",
      "include_colab_link": true
    },
    "kernelspec": {
      "name": "python3",
      "display_name": "Python 3"
    },
    "language_info": {
      "name": "python"
    }
  },
  "cells": [
    {
      "cell_type": "markdown",
      "metadata": {
        "id": "view-in-github",
        "colab_type": "text"
      },
      "source": [
        "<a href=\"https://colab.research.google.com/github/alswns3760/colab/blob/main/3110_%EC%84%9C%EB%AF%BC%EC%A4%80(%EC%8B%A4%EC%8A%B5%ED%98%95_3%EB%B2%88).ipynb\" target=\"_parent\"><img src=\"https://colab.research.google.com/assets/colab-badge.svg\" alt=\"Open In Colab\"/></a>"
      ]
    },
    {
      "cell_type": "code",
      "execution_count": 4,
      "metadata": {
        "colab": {
          "base_uri": "https://localhost:8080/"
        },
        "id": "2y59B6it6WC9",
        "outputId": "a580f172-f81f-4906-b4a7-93a3b42718a5"
      },
      "outputs": [
        {
          "output_type": "stream",
          "name": "stdout",
          "text": [
            "첫번째 문자 열 ==> ㅇㅇㅇㅇㅇㅇㅇ\n",
            "두번째 문자 열 ==> ㅇㅇㅇ\n",
            "길이의 차이 4\n"
          ]
        }
      ],
      "source": [
        "a=input(\"첫번째 문자 열 ==> \")\n",
        "b=input(\"두번째 문자 열 ==> \")\n",
        "c=len(a)\n",
        "d=len(b)\n",
        "print(\"길이의 차이\",c-d)"
      ]
    }
  ]
}