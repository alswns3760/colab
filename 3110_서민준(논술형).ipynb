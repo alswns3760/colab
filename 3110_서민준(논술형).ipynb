{
  "nbformat": 4,
  "nbformat_minor": 0,
  "metadata": {
    "colab": {
      "name": "3110-서민준(논술형).ipynb",
      "provenance": [],
      "authorship_tag": "ABX9TyP4u2LW78r88q5UWw9zxO12",
      "include_colab_link": true
    },
    "kernelspec": {
      "name": "python3",
      "display_name": "Python 3"
    },
    "language_info": {
      "name": "python"
    }
  },
  "cells": [
    {
      "cell_type": "markdown",
      "metadata": {
        "id": "view-in-github",
        "colab_type": "text"
      },
      "source": [
        "<a href=\"https://colab.research.google.com/github/alswns3760/colab/blob/main/3110_%EC%84%9C%EB%AF%BC%EC%A4%80(%EB%85%BC%EC%88%A0%ED%98%95).ipynb\" target=\"_parent\"><img src=\"https://colab.research.google.com/assets/colab-badge.svg\" alt=\"Open In Colab\"/></a>"
      ]
    },
    {
      "cell_type": "markdown",
      "source": [
        "2022년 응용프로그래밍 개발 - 논술형 \n",
        "\n",
        "컴퓨터과 3학년 1반 10번 서민준"
      ],
      "metadata": {
        "id": "IhQ1Xg0z6pHJ"
      }
    },
    {
      "cell_type": "code",
      "execution_count": 31,
      "metadata": {
        "colab": {
          "base_uri": "https://localhost:8080/"
        },
        "id": "9yFMxSem6jis",
        "outputId": "c56e0eaf-99fb-4e76-d3c0-8a734df55956"
      },
      "outputs": [
        {
          "output_type": "stream",
          "name": "stdout",
          "text": [
            "첫번째 숫자 : 11.2\n",
            "두번째 숫자 : 10\n",
            "11.2 + 10.0 = 21.2\n",
            "11.2 - 10.0 = 1.1999999999999993\n",
            "11.2 * 10.0 = 112.0\n",
            "11.2 / 10.0 = 1.1199999999999999\n",
            "11.2 % 10.0 = 1.1999999999999993\n",
            "11.2 // 10.0 = 1.0\n",
            "11.2 ** 10.0 = 31058482083.442074\n"
          ]
        }
      ],
      "source": [
        "num1=float(input(\"첫번째 숫자 : \"))\n",
        "num2=float(input(\"두번째 숫자 : \"))\n",
        "\n",
        "result1 = num1+num2\n",
        "result2 = num1-num2\n",
        "result3 = num1*num2\n",
        "result4 = num1/num2\n",
        "result5 = num1%num2\n",
        "result6 = num1//num2\n",
        "result7 = num1**num2\n",
        "\n",
        "print(num1,\"+\",num2,\"=\",result1)\n",
        "print(num1,\"-\",num2,\"=\",result2)\n",
        "print(num1,\"*\",num2,\"=\",result3)\n",
        "print(num1,\"/\",num2,\"=\",result4)\n",
        "print(num1,\"%\",num2,\"=\",result5)\n",
        "print(num1,\"//\",num2,\"=\",result6)\n",
        "print(num1,\"**\",num2,\"=\",result7)"
      ]
    }
  ]
}